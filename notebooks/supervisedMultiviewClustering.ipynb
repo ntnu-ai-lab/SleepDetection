{
 "cells": [
  {
   "cell_type": "markdown",
   "metadata": {},
   "source": [
    "# Overview\n",
    "The task is to identify sleep patterns given samples of accelerometer data. "
   ]
  },
  {
   "cell_type": "code",
   "execution_count": 1,
   "metadata": {},
   "outputs": [],
   "source": [
    "# Render our plots inline\n",
    "%matplotlib inline\n",
    "\n",
    "import numpy as np\n",
    "import h5py\n",
    "import pandas as pd\n",
    "import datetime \n",
    "import matplotlib.pyplot as plt\n",
    "from pandas import HDFStore,DataFrame\n",
    "import itertools\n",
    "import math"
   ]
  },
  {
   "cell_type": "code",
   "execution_count": 2,
   "metadata": {},
   "outputs": [],
   "source": [
    "def load_data(filename):\n",
    "    path = 'D:/path/'+ filename\n",
    "    hf = h5py.File(path, 'r')\n",
    "\n",
    "    reread = pd.read_hdf(path)\n",
    "    data = reread#.head(10000)\n",
    "    hf.close()\n",
    "    return data\n",
    "\n",
    "\n",
    "def load_csv(filename):\n",
    "    data = pd.read_csv('D:/path/'+ filename)\n",
    "    \n",
    "    return data\n",
    "\n",
    "def load_targets(subject_number):\n",
    "    filename = 'D:/path/ID'+str(subject_number)+'/PSG'+ str(subject_number) +'_targets.h5'\n",
    "    hf = h5py.File(filename, 'r')\n",
    "\n",
    "    reread = pd.read_hdf(filename)\n",
    "    targets = reread#.head(10000)\n",
    "    hf.close()\n",
    "    return targets\n",
    "\n",
    "def load_features(subject_number):\n",
    "    filename = 'D:/path/ID'+str(subject_number)+'/PSG'+ str(subject_number) +'_features.h5'\n",
    "    hf = h5py.File(filename, 'r')\n",
    "\n",
    "    reread = pd.read_hdf(filename)\n",
    "    features = reread#.head(10000)\n",
    "    hf.close()\n",
    "    return features"
   ]
  },
  {
   "cell_type": "code",
   "execution_count": 3,
   "metadata": {},
   "outputs": [],
   "source": [
    "def combine_data(subject_ids):\n",
    "    \n",
    "    data = []\n",
    "    y = []\n",
    "    \n",
    "    \n",
    "    for i in range(len(subject_ids)):\n",
    "        \n",
    "        features = load_features(subject_ids[i])\n",
    "        targets = load_targets(subject_ids[i])\n",
    "        \n",
    "        data.append(features)\n",
    "        y.append(targets)\n",
    "    \n",
    "    result_X = pd.concat(data)\n",
    "    result_X = result_X.reset_index()\n",
    "    result_X = result_X.drop(['index'], axis = 1)\n",
    "    \n",
    "    result_y = pd.concat(y)\n",
    "    result_y = result_y.reset_index()\n",
    "    result_y = result_y.drop(['index'], axis = 1)\n",
    "    \n",
    "    return result_X, result_y.values.ravel()"
   ]
  },
  {
   "cell_type": "code",
   "execution_count": 4,
   "metadata": {},
   "outputs": [],
   "source": [
    "X_train = load_data('X_train_comv_xgb.h5')\n",
    "\n",
    "y_train = load_data('y_train_comv_xgb.h5').values.ravel()\n"
   ]
  },
  {
   "cell_type": "code",
   "execution_count": 5,
   "metadata": {},
   "outputs": [],
   "source": [
    "# subject_ids = [1,6,14,15,18,19,20,23,24,25,27,28,29,30,31,37,39]\n",
    "\n",
    "train_ids =[1, 6, 15, 19, 20, 23, 24, 25, 27, 29, 28, 30, 31, 32, 35, 37, 39]\n",
    "\n",
    "#val_ids = [32, 35]\n",
    "\n",
    "test_ids = [14, 18]\n",
    "\n",
    "#X_train, y_train = combine_data(train_ids)\n",
    "X_test, y_test = combine_data(test_ids)\n",
    "#X_test, y_test = combine_data(val_ids)\n"
   ]
  },
  {
   "cell_type": "markdown",
   "metadata": {},
   "source": [
    "# Model building and evaluation"
   ]
  },
  {
   "cell_type": "code",
   "execution_count": 6,
   "metadata": {},
   "outputs": [],
   "source": [
    "import sklearn.metrics as met\n",
    "import seaborn as sn\n",
    "\n",
    "# helper function to quickly build different models\n",
    "def model_build(model, X_train, y_train):\n",
    "    model.fit(X_train, y_train)\n",
    "    return model\n",
    "\n",
    "def plot_confusion_matrix(array):\n",
    "    array = array\n",
    "    x_labels = ['sleep', 'wake']\n",
    "    y_labels = ['sleep', 'wake']\n",
    "    df_cm = pd.DataFrame(array, y_labels,x_labels)\n",
    "    plt.figure(figsize = (4,4))\n",
    "    sn.set(font_scale=1.4)#for label size\n",
    "    sn.heatmap(df_cm, annot=True, annot_kws={\"size\": 16}, cmap=\"YlGnBu\", fmt='g')# font size\n",
    "    plt.show()\n",
    "\n",
    "# helper function to handle evaluation\n",
    "def model_eval(y_test, pred):\n",
    "    print('Accuracy:\\n-----------------------------')\n",
    "    print(met.accuracy_score(y_test, pred))\n",
    "    print('\\nConfusion Matrix:\\n-----------------------------')\n",
    "    conf = met.confusion_matrix(y_test, pred)\n",
    "    plot_confusion_matrix(conf)\n",
    "    #print(met.confusion_matrix(y_test, pred))\n",
    "    print('\\nClassification Report:\\n-----------------------------')\n",
    "    print(met.classification_report(y_test, pred, digits= 5))\n",
    "    \n",
    "    TP = conf.tolist()[0][0]\n",
    "    FN = conf.tolist()[0][1]\n",
    "    FP = conf.tolist()[1][0]\n",
    "    TN = conf.tolist()[1][1]\n",
    "    sen = TP/(TP+FN)\n",
    "    spe = TN/(TN+FP)\n",
    "    gmean= math.sqrt(sen*spe)\n",
    "    \n",
    "    print('TP, FN, FP, TN: '+ str(TN)+', '+ str(FP)+', '+str(FN)+', '+str(TP))\n",
    "    print('Sensitivity:' + str(sen))\n",
    "    print('Specificity:' + str(spe))\n",
    "    print('G-mean:'+ str(gmean))"
   ]
  },
  {
   "cell_type": "code",
   "execution_count": 7,
   "metadata": {},
   "outputs": [],
   "source": [
    "#Supervised multiview method - returns the final predictions along with the prediction confidences\n",
    "def multiview(X_train, y_train, X_test, y_test, classifier):\n",
    "    #Get predicitons\n",
    "    preds = get_predictions(X_train, X_test, y_train, classifier)\n",
    "    \n",
    "    if len(preds)==0:\n",
    "        print('No classifier called '+ classifier +'. Classifier has to be \"rf\", \"xgb\", \"dt\" or \"all\".')\n",
    "    else:\n",
    "        labels = []\n",
    "        confidence = []\n",
    "        \n",
    "        #Uses a majority voting scheme to decide on the final predictions for the training data.\n",
    "        #The percentage of classifiers that voted for the final prediciton is saved as the prediction confidence\n",
    "        for i in range(len(y_test)):\n",
    "            s_count = 0\n",
    "            w_count = 0\n",
    "\n",
    "            for p in preds:\n",
    "                if p[i] == 1:\n",
    "                    s_count = s_count + 1\n",
    "                else:\n",
    "                    w_count = w_count + 1\n",
    "\n",
    "            if s_count>w_count:\n",
    "                labels.append(1)\n",
    "                confidence.append(s_count/9.0)\n",
    "            else:\n",
    "                labels.append(2)\n",
    "                confidence.append(w_count/9.0)\n",
    "        \n",
    "        return labels, confidence\n",
    "    \n",
    "\n",
    "#Function that trains the specified type of classifiers on three different views and uses them to make prediction on the\n",
    "# training data.\n",
    "def get_predictions(X_train, X_test, y_train, classifier):\n",
    "    \n",
    "    X_train_b, X_test_b = get_back_view(X_train, X_test)\n",
    "    X_train_t, X_test_t = get_thigh_view(X_train, X_test)\n",
    "    \n",
    "    #X_train_b, X_train_t, X_test_b, X_test_t = get_views(X_train, X_test)\n",
    "    \n",
    "    models = []\n",
    "    if classifier == 'rf' or classifier == 'all':\n",
    "        models.append(model_build(RandomForestClassifier(n_estimators=20), X_train, y_train))\n",
    "        models.append(model_build(RandomForestClassifier(n_estimators=20), X_train_b, y_train))\n",
    "        models.append(model_build(RandomForestClassifier(n_estimators=20), X_train_t, y_train))\n",
    "    if classifier == 'xgb' or classifier == 'all':\n",
    "        models.append(model_build(XGBClassifier(n_estimators=150), X_train, y_train))\n",
    "        models.append(model_build(XGBClassifier(n_estimators=150), X_train_b, y_train))\n",
    "        models.append(model_build(XGBClassifier(n_estimators=150), X_train_t, y_train))\n",
    "    if classifier == 'dt' or classifier == 'all':\n",
    "        models.append(model_build(DecisionTreeClassifier(), X_train, y_train))\n",
    "        models.append(model_build(DecisionTreeClassifier(), X_train_b, y_train))\n",
    "        models.append(model_build(DecisionTreeClassifier(), X_train_t, y_train))\n",
    "    \n",
    "    preds = []\n",
    "    index = 0\n",
    "    for i in range(int(len(models)/3.0)):\n",
    "        preds.append(models[index].predict(X_test))\n",
    "        preds.append(models[index+1].predict(X_test_b))\n",
    "        preds.append(models[index+2].predict(X_test_t))\n",
    "        index = index + 3\n",
    "    \n",
    "    return preds\n",
    "    \n",
    "    \n",
    "#Function for getting the back view feature set\n",
    "def get_back_view(X_train, X_test):\n",
    "    num_features = (len(X_train.columns)-2)/7\n",
    "    b_limit = int(num_features*3)+1\n",
    "    \n",
    "    X_train_b = X_train.iloc[:, :b_limit].copy()\n",
    "    X_test_b = X_test.iloc[:, :b_limit].copy()\n",
    "    \n",
    "    return X_train_b.values, X_test_b.values\n",
    "\n",
    "#Function for getting the thigh view feature set\n",
    "def get_thigh_view(X_train, X_test):\n",
    "    num_features = (len(X_train.columns)-2)/7\n",
    "    b_limit = int(num_features*3)+1\n",
    "    t_limit = int(num_features*6)+2\n",
    "    \n",
    "    X_train_t = X_train.iloc[:, b_limit:t_limit].copy()\n",
    "    X_test_t = X_test.iloc[:, b_limit:t_limit].copy()\n",
    "    \n",
    "    return X_train_t.values, X_test_t.values\n",
    "    "
   ]
  },
  {
   "cell_type": "code",
   "execution_count": 8,
   "metadata": {},
   "outputs": [],
   "source": [
    "#Method that sorts intances into two groups based on their prediciton confidence\n",
    "def sort_instances(X_test, y_test, predictions, confidences):\n",
    "    \n",
    "    max_conf = max(confidences)\n",
    "    \n",
    "    if max_conf > 0.8:\n",
    "        max_conf = 0.8\n",
    "    \n",
    "    X = []\n",
    "    preds = []\n",
    "    \n",
    "    y1 = []\n",
    "    y2 = []\n",
    "    \n",
    "    unlabelled = []\n",
    "    \n",
    "    for i in range(len(X_test)):\n",
    "        instance = X_test[i]\n",
    "        prediction = predictions[i]\n",
    "        conf = confidences[i]\n",
    "        \n",
    "        if conf >= (max_conf):\n",
    "            X.append(instance)\n",
    "            preds.append(prediction)\n",
    "            y1.append(y_test[i])\n",
    "        else:\n",
    "            unlabelled.append(instance)\n",
    "            y2.append(y_test[i])\n",
    "    \n",
    "    y = y1 + y2\n",
    "    \n",
    "    return X, preds, y, unlabelled"
   ]
  },
  {
   "cell_type": "code",
   "execution_count": 9,
   "metadata": {},
   "outputs": [
    {
     "name": "stderr",
     "output_type": "stream",
     "text": [
      "C:\\Users\\ailee\\Anaconda3\\lib\\site-packages\\sklearn\\ensemble\\weight_boosting.py:29: DeprecationWarning: numpy.core.umath_tests is an internal NumPy module and should not be imported. It will be removed in a future NumPy release.\n",
      "  from numpy.core.umath_tests import inner1d\n"
     ]
    }
   ],
   "source": [
    "from sklearn.ensemble import RandomForestClassifier\n",
    "from sklearn.tree import DecisionTreeClassifier\n",
    "from xgboost import XGBClassifier\n",
    "from sklearn.neighbors import KNeighborsClassifier\n",
    "from sklearn.cluster import KMeans\n",
    "\n",
    "def multiviewWithKMeans(X_train, y_train, X_test, y_test, classifier, n):\n",
    "    \n",
    "    #Get the predictions and predicitons confidences\n",
    "    predictions, confidences = multiview(X_train, y_train, X_test, y_test, classifier)\n",
    "    \n",
    "    #Sort the instances based on confidences\n",
    "    labelled, preds, y_test, unlabelled = sort_instances(X_test.values, y_test, predictions, confidences)\n",
    "    \n",
    "    if(len(unlabelled)>0):\n",
    "        kMeans(labelled, preds, y_test, unlabelled, n)\n",
    "    else:\n",
    "        model_eval(y_test, preds)\n",
    "\n",
    "#Method that uses kMeans clustering to relabel instances with a low prediction confidence\n",
    "def kMeans(X_train, y_preds, y, unlabelled, n):\n",
    "    \n",
    "    num_clusters = n\n",
    "    if len(unlabelled)<num_clusters:\n",
    "        num_clusters = len(unlabelled)\n",
    "    \n",
    "    #Separate the intances with low confidence (unlabelled instances) into n clusters\n",
    "    kmeans = KMeans(n_clusters=num_clusters, random_state=0).fit(unlabelled)\n",
    "    centers = kmeans.cluster_centers_\n",
    "    clusters = kmeans.predict(centers)\n",
    "    \n",
    "    #Train a kNN classifier on the instances with high confidence\n",
    "    knnc = KNeighborsClassifier(n_neighbors=10)\n",
    "    knnc.fit(X_train, y_preds)\n",
    "    \n",
    "    #Use the kNN classifier to make predictions on the instances in the center of the clusters\n",
    "    c = knnc.predict(centers)\n",
    "    kmeans_preds = kmeans.predict(unlabelled)\n",
    "    \n",
    "    #Label each cluster based on the prediction of the center instance\n",
    "    p = []\n",
    "    for prediction in kmeans_preds:\n",
    "        for i in range(n):\n",
    "            if prediction == clusters[i]:\n",
    "                p.append(c[i])\n",
    "                break\n",
    "\n",
    "    #Combine predictions for unlabelled and labelled data\n",
    "    labels = np.copy(y_preds)\n",
    "    p = np.copy(p)\n",
    "    \n",
    "    predictions = np.concatenate((labels, p), axis = 0)\n",
    "    \n",
    "    #Evaluate results\n",
    "    model_eval(y, predictions)"
   ]
  },
  {
   "cell_type": "code",
   "execution_count": 10,
   "metadata": {},
   "outputs": [],
   "source": [
    "from sklearn.cluster import AgglomerativeClustering\n",
    "\n",
    "def multiviewWithAgglomerative(X_train, y_train, X_test, y_test, classifier, n):\n",
    "    \n",
    "    #Get the predictions and predicitons confidences\n",
    "    predictions, confidences = multiview(X_train, y_train, X_test, y_test, classifier)\n",
    "    \n",
    "    #Sort the instances based on confidences\n",
    "    labelled, preds, y_test, unlabelled = sort_instances(X_test.values, y_test, predictions, confidences)\n",
    "\n",
    "    if(len(unlabelled)>0):\n",
    "        agglomerative(labelled, preds, y_test, unlabelled, n)\n",
    "    else:\n",
    "        model_eval(y_test, preds)\n",
    "\n",
    "#Method that uses agglometate clustering to relabel instances with a low prediction confidence\n",
    "def agglomerative(X_train, y_preds, y, unlabelled, n):\n",
    "    \n",
    "    #Separate the intances with low confidence (unlabelled instances) into 2 clusters\n",
    "    ac = AgglomerativeClustering(n_clusters=n).fit(unlabelled)\n",
    "    \n",
    "    #Get current cluster labels\n",
    "    acp = ac.labels_\n",
    "    \n",
    "    #Get cluster labels\n",
    "    cluster_labels = list(dict.fromkeys(acp.copy()))\n",
    "\n",
    "    #Train a kNN classifier on the instances with high confidence and use it to make predictions for the unlabelled instances\n",
    "    knnc = KNeighborsClassifier(n_neighbors=10)\n",
    "    knnc.fit(X_train, y_preds)\n",
    "    \n",
    "    #Get cluster representatives\n",
    "    reps = get_cluster_reps(acp, cluster_labels, unlabelled)\n",
    "    \n",
    "    #Update cluster labels based onn kNN predictions for cluster representatives\n",
    "    p = []\n",
    "    knn_preds = knnc.predict(reps)\n",
    "    \n",
    "    for i in range(len(acp)):\n",
    "        new_label = update_label(acp[i], cluster_labels, knn_preds, n)\n",
    "        p.append(new_label)\n",
    "    \n",
    "    #Combine predictions for unlabelled and labelled data\n",
    "    labels = np.copy(y_preds)\n",
    "    preds = np.copy(p)\n",
    "    \n",
    "    predictions = np.concatenate((labels, p), axis = 0)\n",
    "        \n",
    "    #Evaluate results\n",
    "    model_eval(y, predictions)\n",
    "\n",
    "def update_label(x, cluster_labels, knn_preds, n):\n",
    "    \n",
    "    for i in range(n):\n",
    "        if x == cluster_labels[i]:\n",
    "            return knn_preds[i]\n",
    "\n",
    "#Method that calculates the mean value of each cluster and returns them\n",
    "def get_cluster_reps(labels, cluster_labels, unlabelled):\n",
    "    \n",
    "    unl = pd.DataFrame(data=unlabelled)\n",
    "    c = pd.DataFrame(data = labels)\n",
    "    c.columns = ['cluster']\n",
    "    \n",
    "    df = pd.concat([unl, c], axis = 1)\n",
    "    df = df.reset_index()\n",
    "    df = df.drop(['index'], axis = 1)\n",
    "\n",
    "    df = df.set_index(['cluster'])\n",
    "    \n",
    "    reps = []\n",
    "\n",
    "    for cluster in cluster_labels:\n",
    "        data = df.loc[cluster].copy()\n",
    "        num_rows = data.shape[0]\n",
    "        result = []\n",
    "        for c in df.columns:\n",
    "            sum_values = data[c].sum(axis =0)\n",
    "            mean_value = sum_values/num_rows\n",
    "            result.append(mean_value)\n",
    "        reps.append(result)\n",
    "    #return reps\n",
    "    return pd.DataFrame(reps)"
   ]
  },
  {
   "cell_type": "markdown",
   "metadata": {},
   "source": [
    "# Training and results - KMeans"
   ]
  },
  {
   "cell_type": "code",
   "execution_count": 11,
   "metadata": {},
   "outputs": [
    {
     "name": "stdout",
     "output_type": "stream",
     "text": [
      "Accuracy:\n",
      "-----------------------------\n",
      "0.8794679966749792\n",
      "\n",
      "Confusion Matrix:\n",
      "-----------------------------\n"
     ]
    },
    {
     "data": {
      "image/png": "[encoded data removed]",
      "text/plain": [
       "<Figure size 288x288 with 2 Axes>"
      ]
     },
     "metadata": {
      "needs_background": "light"
     },
     "output_type": "display_data"
    },
    {
     "name": "stdout",
     "output_type": "stream",
     "text": [
      "\n",
      "Classification Report:\n",
      "-----------------------------\n",
      "             precision    recall  f1-score   support\n",
      "\n",
      "          1    0.89245   0.93234   0.91196      1611\n",
      "          2    0.84924   0.77233   0.80896       795\n",
      "\n",
      "avg / total    0.87817   0.87947   0.87793      2406\n",
      "\n",
      "TP, FN, FP, TN: 614, 181, 109, 1502\n",
      "Sensitivity:0.9323401613904407\n",
      "Specificity:0.7723270440251573\n",
      "G-mean:0.8485702804556716\n"
     ]
    }
   ],
   "source": [
    "multiviewWithKMeans(X_train, y_train, X_test, y_test,'dt', 15)"
   ]
  },
  {
   "cell_type": "code",
   "execution_count": 12,
   "metadata": {},
   "outputs": [
    {
     "name": "stdout",
     "output_type": "stream",
     "text": [
      "Accuracy:\n",
      "-----------------------------\n",
      "0.9168744804655029\n",
      "\n",
      "Confusion Matrix:\n",
      "-----------------------------\n"
     ]
    },
    {
     "data": {
      "image/png": "[encoded data removed]",
      "text/plain": [
       "<Figure size 288x288 with 2 Axes>"
      ]
     },
     "metadata": {},
     "output_type": "display_data"
    },
    {
     "name": "stdout",
     "output_type": "stream",
     "text": [
      "\n",
      "Classification Report:\n",
      "-----------------------------\n",
      "             precision    recall  f1-score   support\n",
      "\n",
      "          1    0.89613   0.99069   0.94104      1611\n",
      "          2    0.97600   0.76730   0.85915       795\n",
      "\n",
      "avg / total    0.92252   0.91687   0.91398      2406\n",
      "\n",
      "TP, FN, FP, TN: 610, 185, 15, 1596\n",
      "Sensitivity:0.9906890130353817\n",
      "Specificity:0.7672955974842768\n",
      "G-mean:0.8718665713158704\n"
     ]
    }
   ],
   "source": [
    "multiviewWithKMeans(X_train, y_train, X_test, y_test,'rf', 15)"
   ]
  },
  {
   "cell_type": "code",
   "execution_count": 13,
   "metadata": {},
   "outputs": [
    {
     "name": "stdout",
     "output_type": "stream",
     "text": [
      "Accuracy:\n",
      "-----------------------------\n",
      "0.9172901080631753\n",
      "\n",
      "Confusion Matrix:\n",
      "-----------------------------\n"
     ]
    },
    {
     "name": "stderr",
     "output_type": "stream",
     "text": [
      "C:\\Users\\ailee\\Anaconda3\\lib\\site-packages\\sklearn\\preprocessing\\label.py:151: DeprecationWarning: The truth value of an empty array is ambiguous. Returning False, but in future this will result in an error. Use `array.size > 0` to check that an array is not empty.\n",
      "  if diff:\n",
      "C:\\Users\\ailee\\Anaconda3\\lib\\site-packages\\sklearn\\preprocessing\\label.py:151: DeprecationWarning: The truth value of an empty array is ambiguous. Returning False, but in future this will result in an error. Use `array.size > 0` to check that an array is not empty.\n",
      "  if diff:\n",
      "C:\\Users\\ailee\\Anaconda3\\lib\\site-packages\\sklearn\\preprocessing\\label.py:151: DeprecationWarning: The truth value of an empty array is ambiguous. Returning False, but in future this will result in an error. Use `array.size > 0` to check that an array is not empty.\n",
      "  if diff:\n"
     ]
    },
    {
     "data": {
      "image/png": "[encoded data removed]",
      "text/plain": [
       "<Figure size 288x288 with 2 Axes>"
      ]
     },
     "metadata": {},
     "output_type": "display_data"
    },
    {
     "name": "stdout",
     "output_type": "stream",
     "text": [
      "\n",
      "Classification Report:\n",
      "-----------------------------\n",
      "             precision    recall  f1-score   support\n",
      "\n",
      "          1    0.92996   0.94786   0.93883      1611\n",
      "          2    0.89005   0.85535   0.87235       795\n",
      "\n",
      "avg / total    0.91678   0.91729   0.91686      2406\n",
      "\n",
      "TP, FN, FP, TN: 680, 115, 84, 1527\n",
      "Sensitivity:0.9478584729981379\n",
      "Specificity:0.8553459119496856\n",
      "G-mean:0.9004148321667234\n"
     ]
    }
   ],
   "source": [
    "multiviewWithKMeans(X_train, y_train, X_test, y_test,'xgb', 15)"
   ]
  },
  {
   "cell_type": "code",
   "execution_count": 14,
   "metadata": {},
   "outputs": [
    {
     "name": "stdout",
     "output_type": "stream",
     "text": [
      "Accuracy:\n",
      "-----------------------------\n",
      "0.8669991687448046\n",
      "\n",
      "Confusion Matrix:\n",
      "-----------------------------\n"
     ]
    },
    {
     "name": "stderr",
     "output_type": "stream",
     "text": [
      "C:\\Users\\ailee\\Anaconda3\\lib\\site-packages\\sklearn\\preprocessing\\label.py:151: DeprecationWarning: The truth value of an empty array is ambiguous. Returning False, but in future this will result in an error. Use `array.size > 0` to check that an array is not empty.\n",
      "  if diff:\n",
      "C:\\Users\\ailee\\Anaconda3\\lib\\site-packages\\sklearn\\preprocessing\\label.py:151: DeprecationWarning: The truth value of an empty array is ambiguous. Returning False, but in future this will result in an error. Use `array.size > 0` to check that an array is not empty.\n",
      "  if diff:\n",
      "C:\\Users\\ailee\\Anaconda3\\lib\\site-packages\\sklearn\\preprocessing\\label.py:151: DeprecationWarning: The truth value of an empty array is ambiguous. Returning False, but in future this will result in an error. Use `array.size > 0` to check that an array is not empty.\n",
      "  if diff:\n"
     ]
    },
    {
     "data": {
      "image/png": "[encoded data removed]",
      "text/plain": [
       "<Figure size 288x288 with 2 Axes>"
      ]
     },
     "metadata": {},
     "output_type": "display_data"
    },
    {
     "name": "stdout",
     "output_type": "stream",
     "text": [
      "\n",
      "Classification Report:\n",
      "-----------------------------\n",
      "             precision    recall  f1-score   support\n",
      "\n",
      "          1    0.89870   0.90317   0.90093      1611\n",
      "          2    0.80178   0.79371   0.79772       795\n",
      "\n",
      "avg / total    0.86668   0.86700   0.86683      2406\n",
      "\n",
      "TP, FN, FP, TN: 631, 164, 156, 1455\n",
      "Sensitivity:0.9031657355679702\n",
      "Specificity:0.7937106918238994\n",
      "G-mean:0.8466713062394962\n"
     ]
    }
   ],
   "source": [
    "multiviewWithKMeans(X_train, y_train, X_test, y_test,'all', 15)"
   ]
  },
  {
   "cell_type": "markdown",
   "metadata": {},
   "source": [
    "# Training and results - Agglomerative"
   ]
  },
  {
   "cell_type": "code",
   "execution_count": 15,
   "metadata": {},
   "outputs": [
    {
     "name": "stdout",
     "output_type": "stream",
     "text": [
      "Accuracy:\n",
      "-----------------------------\n",
      "0.9214463840399002\n",
      "\n",
      "Confusion Matrix:\n",
      "-----------------------------\n"
     ]
    },
    {
     "data": {
      "image/png": "[encoded data removed]",
      "text/plain": [
       "<Figure size 288x288 with 2 Axes>"
      ]
     },
     "metadata": {},
     "output_type": "display_data"
    },
    {
     "name": "stdout",
     "output_type": "stream",
     "text": [
      "\n",
      "Classification Report:\n",
      "-----------------------------\n",
      "             precision    recall  f1-score   support\n",
      "\n",
      "          1    0.91824   0.96896   0.94292      1611\n",
      "          2    0.92918   0.82516   0.87408       795\n",
      "\n",
      "avg / total    0.92185   0.92145   0.92017      2406\n",
      "\n",
      "TP, FN, FP, TN: 656, 139, 50, 1561\n",
      "Sensitivity:0.9689633767846059\n",
      "Specificity:0.8251572327044026\n",
      "G-mean:0.8941739979330078\n"
     ]
    }
   ],
   "source": [
    "multiviewWithAgglomerative(X_train, y_train, X_test, y_test,'dt', 15)"
   ]
  },
  {
   "cell_type": "code",
   "execution_count": 16,
   "metadata": {},
   "outputs": [
    {
     "name": "stdout",
     "output_type": "stream",
     "text": [
      "Accuracy:\n",
      "-----------------------------\n",
      "0.9334995843724023\n",
      "\n",
      "Confusion Matrix:\n",
      "-----------------------------\n"
     ]
    },
    {
     "data": {
      "image/png": "[encoded data removed]",
      "text/plain": [
       "<Figure size 288x288 with 2 Axes>"
      ]
     },
     "metadata": {},
     "output_type": "display_data"
    },
    {
     "name": "stdout",
     "output_type": "stream",
     "text": [
      "\n",
      "Classification Report:\n",
      "-----------------------------\n",
      "             precision    recall  f1-score   support\n",
      "\n",
      "          1    0.91481   0.99317   0.95238      1611\n",
      "          2    0.98326   0.81258   0.88981       795\n",
      "\n",
      "avg / total    0.93743   0.93350   0.93171      2406\n",
      "\n",
      "TP, FN, FP, TN: 646, 149, 11, 1600\n",
      "Sensitivity:0.9931719428926132\n",
      "Specificity:0.8125786163522013\n",
      "G-mean:0.8983486423185083\n"
     ]
    }
   ],
   "source": [
    "multiviewWithAgglomerative(X_train, y_train, X_test, y_test,'rf', 15)"
   ]
  },
  {
   "cell_type": "code",
   "execution_count": 17,
   "metadata": {},
   "outputs": [
    {
     "name": "stderr",
     "output_type": "stream",
     "text": [
      "C:\\Users\\ailee\\Anaconda3\\lib\\site-packages\\sklearn\\preprocessing\\label.py:151: DeprecationWarning: The truth value of an empty array is ambiguous. Returning False, but in future this will result in an error. Use `array.size > 0` to check that an array is not empty.\n",
      "  if diff:\n",
      "C:\\Users\\ailee\\Anaconda3\\lib\\site-packages\\sklearn\\preprocessing\\label.py:151: DeprecationWarning: The truth value of an empty array is ambiguous. Returning False, but in future this will result in an error. Use `array.size > 0` to check that an array is not empty.\n",
      "  if diff:\n",
      "C:\\Users\\ailee\\Anaconda3\\lib\\site-packages\\sklearn\\preprocessing\\label.py:151: DeprecationWarning: The truth value of an empty array is ambiguous. Returning False, but in future this will result in an error. Use `array.size > 0` to check that an array is not empty.\n",
      "  if diff:\n"
     ]
    },
    {
     "name": "stdout",
     "output_type": "stream",
     "text": [
      "Accuracy:\n",
      "-----------------------------\n",
      "0.9243557772236076\n",
      "\n",
      "Confusion Matrix:\n",
      "-----------------------------\n"
     ]
    },
    {
     "data": {
      "image/png": "[encoded data removed]",
      "text/plain": [
       "<Figure size 288x288 with 2 Axes>"
      ]
     },
     "metadata": {},
     "output_type": "display_data"
    },
    {
     "name": "stdout",
     "output_type": "stream",
     "text": [
      "\n",
      "Classification Report:\n",
      "-----------------------------\n",
      "             precision    recall  f1-score   support\n",
      "\n",
      "          1    0.94078   0.94662   0.94369      1611\n",
      "          2    0.89045   0.87925   0.88481       795\n",
      "\n",
      "avg / total    0.92415   0.92436   0.92423      2406\n",
      "\n",
      "TP, FN, FP, TN: 699, 96, 86, 1525\n",
      "Sensitivity:0.946617008069522\n",
      "Specificity:0.879245283018868\n",
      "G-mean:0.912309453623364\n"
     ]
    }
   ],
   "source": [
    "multiviewWithAgglomerative(X_train, y_train, X_test, y_test,'xgb', 15)"
   ]
  },
  {
   "cell_type": "code",
   "execution_count": 18,
   "metadata": {},
   "outputs": [
    {
     "name": "stderr",
     "output_type": "stream",
     "text": [
      "C:\\Users\\ailee\\Anaconda3\\lib\\site-packages\\sklearn\\preprocessing\\label.py:151: DeprecationWarning: The truth value of an empty array is ambiguous. Returning False, but in future this will result in an error. Use `array.size > 0` to check that an array is not empty.\n",
      "  if diff:\n",
      "C:\\Users\\ailee\\Anaconda3\\lib\\site-packages\\sklearn\\preprocessing\\label.py:151: DeprecationWarning: The truth value of an empty array is ambiguous. Returning False, but in future this will result in an error. Use `array.size > 0` to check that an array is not empty.\n",
      "  if diff:\n",
      "C:\\Users\\ailee\\Anaconda3\\lib\\site-packages\\sklearn\\preprocessing\\label.py:151: DeprecationWarning: The truth value of an empty array is ambiguous. Returning False, but in future this will result in an error. Use `array.size > 0` to check that an array is not empty.\n",
      "  if diff:\n"
     ]
    },
    {
     "name": "stdout",
     "output_type": "stream",
     "text": [
      "Accuracy:\n",
      "-----------------------------\n",
      "0.9326683291770573\n",
      "\n",
      "Confusion Matrix:\n",
      "-----------------------------\n"
     ]
    },
    {
     "data": {
      "image/png": "[encoded data removed]",
      "text/plain": [
       "<Figure size 288x288 with 2 Axes>"
      ]
     },
     "metadata": {},
     "output_type": "display_data"
    },
    {
     "name": "stdout",
     "output_type": "stream",
     "text": [
      "\n",
      "Classification Report:\n",
      "-----------------------------\n",
      "             precision    recall  f1-score   support\n",
      "\n",
      "          1    0.91710   0.98883   0.95161      1611\n",
      "          2    0.97309   0.81887   0.88934       795\n",
      "\n",
      "avg / total    0.93560   0.93267   0.93104      2406\n",
      "\n",
      "TP, FN, FP, TN: 651, 144, 18, 1593\n",
      "Sensitivity:0.9888268156424581\n",
      "Specificity:0.8188679245283019\n",
      "G-mean:0.8998436321067508\n"
     ]
    }
   ],
   "source": [
    "multiviewWithAgglomerative(X_train, y_train, X_test, y_test,'all', 15)"
   ]
  },
  {
   "cell_type": "code",
   "execution_count": null,
   "metadata": {},
   "outputs": [],
   "source": []
  }
 ],
 "metadata": {
  "kernelspec": {
   "display_name": "Python 3",
   "language": "python",
   "name": "python3"
  },
  "language_info": {
   "codemirror_mode": {
    "name": "ipython",
    "version": 3
   },
   "file_extension": ".py",
   "mimetype": "text/x-python",
   "name": "python",
   "nbconvert_exporter": "python",
   "pygments_lexer": "ipython3",
   "version": "3.7.0"
  }
 },
 "nbformat": 4,
 "nbformat_minor": 2
}
