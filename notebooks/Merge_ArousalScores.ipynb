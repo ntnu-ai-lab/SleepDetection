{
 "cells": [
  {
   "cell_type": "markdown",
   "metadata": {},
   "source": [
    "# Overview\n",
    "The task is to identify sleep patterns given samples of accelerometer data. "
   ]
  },
  {
   "cell_type": "code",
   "execution_count": 1,
   "metadata": {},
   "outputs": [],
   "source": [
    "# Render our plots inline\n",
    "%matplotlib inline\n",
    "\n",
    "import numpy as np\n",
    "import h5py\n",
    "import pandas as pd\n",
    "import datetime \n",
    "import matplotlib.pyplot as plt\n",
    "from pandas import HDFStore, DataFrame\n",
    "import itertools"
   ]
  },
  {
   "cell_type": "markdown",
   "metadata": {},
   "source": [
    "# Functions for Loading data\n"
   ]
  },
  {
   "cell_type": "code",
   "execution_count": 2,
   "metadata": {},
   "outputs": [],
   "source": [
    "#Loads the target information\n",
    "def load_targets(subject_number):\n",
    "    path = 'D:/path/ID'+str(subject_number)+'/PSG'+ str(subject_number) +'_targets.h5'\n",
    "    hf = h5py.File(path, 'r')\n",
    "\n",
    "    reread = pd.read_hdf(path)\n",
    "    targets = reread#.head(10000)\n",
    "    hf.close()\n",
    "    \n",
    "    return targets\n",
    "\n",
    "#Loads the timestamps\n",
    "def load_timestamps(subject_number):\n",
    "    path = 'D:/path/ID'+str(subject_number)+'/PSG'+ str(subject_number) +'_timestamps.h5'\n",
    "    hf = h5py.File(path, 'r')\n",
    "\n",
    "    reread = pd.read_hdf(path)\n",
    "    timestamps = reread#.head(10000)\n",
    "    hf.close()\n",
    "    \n",
    "    return timestamps"
   ]
  },
  {
   "cell_type": "markdown",
   "metadata": {},
   "source": [
    "# Merge scores"
   ]
  },
  {
   "cell_type": "code",
   "execution_count": 3,
   "metadata": {},
   "outputs": [],
   "source": [
    "#Edits the start time so that it represents the 30 second epoch it is within\n",
    "def edit_start_time(x):\n",
    "    \n",
    "    words = x.split(':')\n",
    "    \n",
    "    if int(words[2]) <30:\n",
    "        words[2] = '00'\n",
    "    else:\n",
    "        words[2] = '30'\n",
    "    \n",
    "    time = words[0]+':'+words[1]+':'+words[2]\n",
    "    \n",
    "    return time\n",
    "\n",
    "#Edits the end time so that it represents the 30 second epoch it is within\n",
    "def edit_end_time(x):\n",
    "    \n",
    "    s = x.split('-')\n",
    "\n",
    "    words = s[1].split(':')\n",
    "    \n",
    "    if int(words[2]) <30:\n",
    "        words[2] = '00'\n",
    "    else:\n",
    "        words[2] = '30'\n",
    "    \n",
    "    time = words[0]+':'+words[1]+':'+ words[2]\n",
    "    \n",
    "    return time\n",
    "\n",
    "#Edits the type and returns it in the wanted format\n",
    "def edit_type(x):\n",
    "    \n",
    "    s = x.split(';')\n",
    "    \n",
    "    words = s[2].split()\n",
    "    \n",
    "    a_type = words[0] # For arousal and PLM\n",
    "    #a_type = words[len(words)-1] for EEG or EMG\n",
    "    \n",
    "    return a_type\n",
    "    \n",
    "#Loads the arousal data and edits the data so only the relevant infomartion is returned\n",
    "def load_arousals(subject_id):\n",
    "\n",
    "\n",
    "    arousals = pd.read_csv('D:/Masteroppgave/Data/ID'+str(subject_id)+'/PSG_analysis/Classification Arousals.txt', header=None, sep=',', \n",
    "                                names=['start','end','type'], skiprows=5)\n",
    "    \n",
    "    arousals['start'] = arousals['start'].apply(lambda x: edit_start_time(x))\n",
    "    \n",
    "    arousals['end'] = arousals['end'].apply(lambda x: edit_end_time(x))\n",
    "    \n",
    "    #arousals = arousals.drop(['type'], axis=1)\n",
    "    arousals['type'] = arousals['type'].apply(lambda x: edit_type(x))\n",
    "    \n",
    "    \n",
    "    return arousals\n",
    "\n",
    "#Return a list of containing the timestamps of when the wanted arousal types occured\n",
    "def get_arousals(subject_id, wanted_type):\n",
    "    \n",
    "    a = load_arousals(subject_id)\n",
    "    \n",
    "    x = a['start'].values\n",
    "    y = a['end'].values\n",
    "    #time = x.tolist() + y.tolist()\n",
    "    \n",
    "    t = a['type'].values\n",
    "    \n",
    "    time = []\n",
    "    \n",
    "    for i in range(len(t)):\n",
    "        a_type = t[i]\n",
    "        #print(a_type)\n",
    "        \n",
    "        if a_type == wanted_type: #for more specific selection, can be removed if you want all arousal types\n",
    "            time.append(x[i])\n",
    "            time.append(y[i])\n",
    "    \n",
    "    \n",
    "    df = pd.DataFrame(data=time)\n",
    "    df_r = DataFrame.drop_duplicates(df)\n",
    "    \n",
    "    arousals = df_r[0].values.tolist()\n",
    "    \n",
    "    \n",
    "    return arousals\n",
    "    "
   ]
  },
  {
   "cell_type": "code",
   "execution_count": 4,
   "metadata": {},
   "outputs": [],
   "source": [
    "import copy\n",
    "# Updates the target(sleep_class) list based on the list of arousal occurences. Arousals are represented by a 0\n",
    "def get_updated_targets(subject_id, arousals):\n",
    "    \n",
    "    targets = load_targets(subject_id).values.tolist()\n",
    "    timestamps = load_timestamps(subject_id)\n",
    "    \n",
    "    for i in range(len(timestamps)):\n",
    "        stamp = copy.copy(str(timestamps[0][i]))\n",
    "        \n",
    "        x = stamp.split(' ')[1]\n",
    "        time = x.split('.')\n",
    "\n",
    "        if time[0] in arousals:\n",
    "            #if targets[i][0] == 1: if you do not want arousal during classified wake labels\n",
    "            targets[i][0] = 0\n",
    "    \n",
    "        \n",
    "    return targets\n",
    "    "
   ]
  },
  {
   "cell_type": "code",
   "execution_count": 5,
   "metadata": {},
   "outputs": [],
   "source": [
    "subject_ids =[1, 6 ,14, 15, 18, 19, 20, 23, 24, 25, 27, 28, 29, 30, 31, 32, 35, 37, 39]\n",
    "\n",
    "def merge_data(subject_ids):\n",
    "    \n",
    "    for subject in subject_ids:\n",
    "        arousals = get_arousals(subject, 'PLM')\n",
    "        targets = get_updated_targets(subject, arousals)\n",
    "\n",
    "        merged_data = pd.DataFrame(data=targets)\n",
    "        filename = 'PSG' + str(subject)  + '_targets_PLMs.h5'\n",
    "        merged_data.to_hdf(filename, key = 'targetsPLM')"
   ]
  },
  {
   "cell_type": "code",
   "execution_count": 6,
   "metadata": {},
   "outputs": [],
   "source": [
    "#merge_data(subject_ids)"
   ]
  }
 ],
 "metadata": {
  "kernelspec": {
   "display_name": "Python 3",
   "language": "python",
   "name": "python3"
  },
  "language_info": {
   "codemirror_mode": {
    "name": "ipython",
    "version": 3
   },
   "file_extension": ".py",
   "mimetype": "text/x-python",
   "name": "python",
   "nbconvert_exporter": "python",
   "pygments_lexer": "ipython3",
   "version": "3.7.0"
  }
 },
 "nbformat": 4,
 "nbformat_minor": 2
}
