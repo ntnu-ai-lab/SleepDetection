{
 "cells": [
  {
   "cell_type": "markdown",
   "metadata": {},
   "source": [
    "# Overview\n",
    "The task is to identify sleep patterns given samples of accelerometer data. "
   ]
  },
  {
   "cell_type": "code",
   "execution_count": 1,
   "metadata": {},
   "outputs": [],
   "source": [
    "# Render our plots inline\n",
    "%matplotlib inline\n",
    "\n",
    "import numpy as np\n",
    "import h5py\n",
    "import pandas as pd\n",
    "import datetime \n",
    "import matplotlib.pyplot as plt\n",
    "from pandas import HDFStore,DataFrame\n",
    "import itertools\n",
    "import math"
   ]
  },
  {
   "cell_type": "code",
   "execution_count": 2,
   "metadata": {},
   "outputs": [],
   "source": [
    "def load_data(filename):\n",
    "    path = 'D:/path/'+ filename\n",
    "    hf = h5py.File(path, 'r')\n",
    "\n",
    "    reread = pd.read_hdf(path)\n",
    "    data = reread#.head(10000)\n",
    "    hf.close()\n",
    "    return data\n",
    "\n",
    "def load_csv(filename):\n",
    "    data = pd.read_csv('D:/path/'+ filename)\n",
    "    \n",
    "    return data\n",
    "\n",
    "def load_targets(subject_number):\n",
    "    filename = 'D:/path/ID'+str(subject_number)+'/PSG'+ str(subject_number) +'_targets.h5'\n",
    "    hf = h5py.File(filename, 'r')\n",
    "\n",
    "    reread = pd.read_hdf(filename)\n",
    "    targets = reread#.head(10000)\n",
    "    hf.close()\n",
    "    return targets\n",
    "\n",
    "def load_features(subject_number):\n",
    "    filename = 'D:/path/ID'+str(subject_number)+'/PSG'+ str(subject_number) +'_features.h5'\n",
    "    hf = h5py.File(filename, 'r')\n",
    "\n",
    "    reread = pd.read_hdf(filename)\n",
    "    features = reread#.head(10000)\n",
    "    hf.close()\n",
    "    return features"
   ]
  },
  {
   "cell_type": "code",
   "execution_count": 3,
   "metadata": {},
   "outputs": [],
   "source": [
    "def combine_data(subject_ids):\n",
    "    \n",
    "    data = []\n",
    "    y = []\n",
    "    \n",
    "    \n",
    "    for i in range(len(subject_ids)):\n",
    "        \n",
    "        features = load_features(subject_ids[i])\n",
    "        targets = load_targets(subject_ids[i])\n",
    "        \n",
    "        data.append(features)\n",
    "        y.append(targets)\n",
    "    \n",
    "    result_X = pd.concat(data)\n",
    "    result_X = result_X.reset_index()\n",
    "    result_X = result_X.drop(['index'], axis = 1)\n",
    "    \n",
    "    result_y = pd.concat(y)\n",
    "    result_y = result_y.reset_index()\n",
    "    result_y = result_y.drop(['index'], axis = 1)\n",
    "    \n",
    "    return result_X, result_y.values.ravel()"
   ]
  },
  {
   "cell_type": "code",
   "execution_count": 4,
   "metadata": {},
   "outputs": [],
   "source": [
    "#X_train = load_data('X_train_comv_xgb_5.h5')\n",
    "\n",
    "#y_train = load_data('y_train_comv_xgb_5.h5').values.ravel()"
   ]
  },
  {
   "cell_type": "code",
   "execution_count": 5,
   "metadata": {},
   "outputs": [],
   "source": [
    "# subject_ids = [1,6,14,15,18,19,20,23,24,25,27,28,29,30,31,32,35,37,39]\n",
    "\n",
    "train_ids =[1, 6, 15, 19, 20, 23, 24, 25, 27, 28, 29, 30, 31, 32, 35, 37, 39]\n",
    "\n",
    "test_ids = [14, 18]\n",
    "\n",
    "\n",
    "X_train, y_train = combine_data(train_ids)\n",
    "X_test, y_test = combine_data(test_ids)\n"
   ]
  },
  {
   "cell_type": "code",
   "execution_count": 6,
   "metadata": {},
   "outputs": [
    {
     "data": {
      "text/html": [
       "<div>\n",
       "<style scoped>\n",
       "    .dataframe tbody tr th:only-of-type {\n",
       "        vertical-align: middle;\n",
       "    }\n",
       "\n",
       "    .dataframe tbody tr th {\n",
       "        vertical-align: top;\n",
       "    }\n",
       "\n",
       "    .dataframe thead th {\n",
       "        text-align: right;\n",
       "    }\n",
       "</style>\n",
       "<table border=\"1\" class=\"dataframe\">\n",
       "  <thead>\n",
       "    <tr style=\"text-align: right;\">\n",
       "      <th></th>\n",
       "      <th>0</th>\n",
       "      <th>1</th>\n",
       "      <th>2</th>\n",
       "      <th>3</th>\n",
       "      <th>4</th>\n",
       "      <th>5</th>\n",
       "      <th>6</th>\n",
       "      <th>7</th>\n",
       "      <th>8</th>\n",
       "      <th>9</th>\n",
       "      <th>...</th>\n",
       "      <th>90</th>\n",
       "      <th>91</th>\n",
       "      <th>92</th>\n",
       "      <th>93</th>\n",
       "      <th>94</th>\n",
       "      <th>95</th>\n",
       "      <th>96</th>\n",
       "      <th>97</th>\n",
       "      <th>98</th>\n",
       "      <th>99</th>\n",
       "    </tr>\n",
       "  </thead>\n",
       "  <tbody>\n",
       "    <tr>\n",
       "      <th>0</th>\n",
       "      <td>0.000760</td>\n",
       "      <td>16.435297</td>\n",
       "      <td>0.011247</td>\n",
       "      <td>0.967625</td>\n",
       "      <td>-0.963184</td>\n",
       "      <td>0.092602</td>\n",
       "      <td>52.068081</td>\n",
       "      <td>5.857407</td>\n",
       "      <td>-30340.288484</td>\n",
       "      <td>-0.096142</td>\n",
       "      <td>...</td>\n",
       "      <td>0.052196</td>\n",
       "      <td>303.454584</td>\n",
       "      <td>13.130905</td>\n",
       "      <td>44404.262312</td>\n",
       "      <td>0.037027</td>\n",
       "      <td>0.010810</td>\n",
       "      <td>0.0</td>\n",
       "      <td>318.0</td>\n",
       "      <td>2868.0</td>\n",
       "      <td>2955.0</td>\n",
       "    </tr>\n",
       "    <tr>\n",
       "      <th>1</th>\n",
       "      <td>0.000699</td>\n",
       "      <td>15.028792</td>\n",
       "      <td>0.009982</td>\n",
       "      <td>0.972671</td>\n",
       "      <td>-0.968978</td>\n",
       "      <td>0.084678</td>\n",
       "      <td>74.191844</td>\n",
       "      <td>7.449146</td>\n",
       "      <td>-30522.816599</td>\n",
       "      <td>-0.087389</td>\n",
       "      <td>...</td>\n",
       "      <td>0.047561</td>\n",
       "      <td>388.921686</td>\n",
       "      <td>15.019331</td>\n",
       "      <td>44394.534233</td>\n",
       "      <td>0.033747</td>\n",
       "      <td>0.010085</td>\n",
       "      <td>0.0</td>\n",
       "      <td>319.0</td>\n",
       "      <td>2923.0</td>\n",
       "      <td>2939.0</td>\n",
       "    </tr>\n",
       "    <tr>\n",
       "      <th>2</th>\n",
       "      <td>0.000696</td>\n",
       "      <td>15.023195</td>\n",
       "      <td>0.009897</td>\n",
       "      <td>0.972959</td>\n",
       "      <td>-0.969270</td>\n",
       "      <td>0.084646</td>\n",
       "      <td>74.408999</td>\n",
       "      <td>7.467049</td>\n",
       "      <td>-30531.990629</td>\n",
       "      <td>-0.087330</td>\n",
       "      <td>...</td>\n",
       "      <td>0.047384</td>\n",
       "      <td>394.713073</td>\n",
       "      <td>15.175882</td>\n",
       "      <td>44391.379512</td>\n",
       "      <td>0.033624</td>\n",
       "      <td>0.009810</td>\n",
       "      <td>0.0</td>\n",
       "      <td>351.0</td>\n",
       "      <td>2956.0</td>\n",
       "      <td>2894.0</td>\n",
       "    </tr>\n",
       "    <tr>\n",
       "      <th>3</th>\n",
       "      <td>0.000688</td>\n",
       "      <td>15.045285</td>\n",
       "      <td>0.009758</td>\n",
       "      <td>0.974033</td>\n",
       "      <td>-0.970337</td>\n",
       "      <td>0.084771</td>\n",
       "      <td>74.331662</td>\n",
       "      <td>7.471182</td>\n",
       "      <td>-30565.614155</td>\n",
       "      <td>-0.087362</td>\n",
       "      <td>...</td>\n",
       "      <td>0.047527</td>\n",
       "      <td>389.949249</td>\n",
       "      <td>15.052973</td>\n",
       "      <td>44394.278932</td>\n",
       "      <td>0.033723</td>\n",
       "      <td>0.009492</td>\n",
       "      <td>0.0</td>\n",
       "      <td>311.0</td>\n",
       "      <td>3032.0</td>\n",
       "      <td>2868.0</td>\n",
       "    </tr>\n",
       "    <tr>\n",
       "      <th>4</th>\n",
       "      <td>0.000676</td>\n",
       "      <td>15.014860</td>\n",
       "      <td>0.009336</td>\n",
       "      <td>0.975148</td>\n",
       "      <td>-0.971471</td>\n",
       "      <td>0.084599</td>\n",
       "      <td>75.353315</td>\n",
       "      <td>7.551253</td>\n",
       "      <td>-30601.349842</td>\n",
       "      <td>-0.087084</td>\n",
       "      <td>...</td>\n",
       "      <td>0.047408</td>\n",
       "      <td>393.861612</td>\n",
       "      <td>15.163419</td>\n",
       "      <td>44394.595935</td>\n",
       "      <td>0.033638</td>\n",
       "      <td>0.008977</td>\n",
       "      <td>0.0</td>\n",
       "      <td>285.0</td>\n",
       "      <td>3066.0</td>\n",
       "      <td>2908.0</td>\n",
       "    </tr>\n",
       "  </tbody>\n",
       "</table>\n",
       "<p>5 rows × 100 columns</p>\n",
       "</div>"
      ],
      "text/plain": [
       "         0          1         2         3         4         5          6   \\\n",
       "0  0.000760  16.435297  0.011247  0.967625 -0.963184  0.092602  52.068081   \n",
       "1  0.000699  15.028792  0.009982  0.972671 -0.968978  0.084678  74.191844   \n",
       "2  0.000696  15.023195  0.009897  0.972959 -0.969270  0.084646  74.408999   \n",
       "3  0.000688  15.045285  0.009758  0.974033 -0.970337  0.084771  74.331662   \n",
       "4  0.000676  15.014860  0.009336  0.975148 -0.971471  0.084599  75.353315   \n",
       "\n",
       "         7             8         9    ...          90          91         92  \\\n",
       "0  5.857407 -30340.288484 -0.096142   ...    0.052196  303.454584  13.130905   \n",
       "1  7.449146 -30522.816599 -0.087389   ...    0.047561  388.921686  15.019331   \n",
       "2  7.467049 -30531.990629 -0.087330   ...    0.047384  394.713073  15.175882   \n",
       "3  7.471182 -30565.614155 -0.087362   ...    0.047527  389.949249  15.052973   \n",
       "4  7.551253 -30601.349842 -0.087084   ...    0.047408  393.861612  15.163419   \n",
       "\n",
       "             93        94        95   96     97      98      99  \n",
       "0  44404.262312  0.037027  0.010810  0.0  318.0  2868.0  2955.0  \n",
       "1  44394.534233  0.033747  0.010085  0.0  319.0  2923.0  2939.0  \n",
       "2  44391.379512  0.033624  0.009810  0.0  351.0  2956.0  2894.0  \n",
       "3  44394.278932  0.033723  0.009492  0.0  311.0  3032.0  2868.0  \n",
       "4  44394.595935  0.033638  0.008977  0.0  285.0  3066.0  2908.0  \n",
       "\n",
       "[5 rows x 100 columns]"
      ]
     },
     "execution_count": 6,
     "metadata": {},
     "output_type": "execute_result"
    }
   ],
   "source": [
    "X_train.head()"
   ]
  },
  {
   "cell_type": "markdown",
   "metadata": {},
   "source": [
    "# Model building and evaluation"
   ]
  },
  {
   "cell_type": "code",
   "execution_count": 7,
   "metadata": {},
   "outputs": [],
   "source": [
    "import sklearn.metrics as met\n",
    "import seaborn as sn\n",
    "    \n",
    "# helper function to quickly build different models\n",
    "def model_build(model, X_train, y_train):\n",
    "    model.fit(X_train, y_train)\n",
    "    return model\n",
    "\n",
    "def plot_confusion_matrix(array):\n",
    "    array = array\n",
    "    x_labels = ['sleep', 'wake']\n",
    "    y_labels = ['sleep', 'wake']\n",
    "    df_cm = pd.DataFrame(array, y_labels,x_labels)\n",
    "    plt.figure(figsize = (4,4))\n",
    "    sn.set(font_scale=1.4)#for label size\n",
    "    sn.heatmap(df_cm, annot=True, annot_kws={\"size\": 16}, cmap=\"YlGnBu\", fmt='g')# font size\n",
    "    plt.show()\n",
    "\n",
    "# helper function to handle evaluation\n",
    "def model_eval(pred, y_test):\n",
    "    #pred = model.predict(X_test)\n",
    "    print('Accuracy:\\n-----------------------------')\n",
    "    print(met.accuracy_score(y_test, pred))\n",
    "    print('\\nConfusion Matrix:\\n-----------------------------')\n",
    "    conf = met.confusion_matrix(y_test, pred)\n",
    "    plot_confusion_matrix(conf)\n",
    "    print('\\nClassification Report:\\n-----------------------------')\n",
    "    print(met.classification_report(y_test, pred, digits= 5))\n",
    "    \n",
    "    TP = conf.tolist()[0][0]\n",
    "    FN = conf.tolist()[0][1]\n",
    "    FP = conf.tolist()[1][0]\n",
    "    TN = conf.tolist()[1][1]\n",
    "    sen = TP/(TP+FN)\n",
    "    spe = TN/(TN+FP)\n",
    "    gmean= math.sqrt(sen*spe)\n",
    "    \n",
    "    print('TP, FN, FP, TN: '+ str(TN)+', '+ str(FP)+', '+str(FN)+', '+str(TP))\n",
    "    print('Sensitivity:' + str(sen))\n",
    "    print('Specificity:' + str(spe))\n",
    "    print('G-mean:'+ str(gmean))"
   ]
  },
  {
   "cell_type": "code",
   "execution_count": 8,
   "metadata": {},
   "outputs": [],
   "source": [
    "\n",
    "#Supervised Multiview method\n",
    "def multiview(X_train, y_train, X_test, y_test, classifier):\n",
    "    \n",
    "    #Get the predictions\n",
    "    preds = get_predictions(X_train, X_test, y_train, classifier)\n",
    "    \n",
    "    if len(preds)==0:\n",
    "        print('No classifier called '+ classifier +'. Classifier has to be \"rf\", \"xgb\", \"dt\" or \"all\".')\n",
    "    else:\n",
    "        labels = []\n",
    "        \n",
    "        #Uses a majority voting scheme to decide on the final predictions for the training data.\n",
    "        for i in range(len(y_test)):\n",
    "            s_count = 0\n",
    "            w_count = 0\n",
    "\n",
    "            for p in preds:\n",
    "                if p[i] == 1:\n",
    "                    s_count = s_count + 1\n",
    "                else:\n",
    "                    w_count = w_count + 1\n",
    "\n",
    "            if s_count>w_count:\n",
    "                labels.append(1)\n",
    "            else:\n",
    "                labels.append(2)\n",
    "        \n",
    "        #Print the evaluation results\n",
    "        model_eval(labels, y_test)\n",
    "\n",
    "\n",
    "#Function that trains the specified type of classifiers on three different views and uses them to make prediction on the\n",
    "# training data.\n",
    "def get_predictions(X_train, X_test, y_train, classifier):\n",
    "    \n",
    "    #get views for back and thigh\n",
    "    #X_train_b, X_train_t, X_test_b, X_test_t = get_views(X_train, X_test)\n",
    "    \n",
    "    X_train_b, X_test_b = get_back_view(X_train, X_test)\n",
    "    X_train_t, X_test_t = get_thigh_view(X_train, X_test)\n",
    "    \n",
    "    models = []\n",
    "    if classifier == 'rf' or classifier == 'all':\n",
    "        models.append(model_build(RandomForestClassifier(n_estimators=20), X_train, y_train))\n",
    "        models.append(model_build(RandomForestClassifier(n_estimators=20), X_train_b, y_train))\n",
    "        models.append(model_build(RandomForestClassifier(n_estimators=20), X_train_t, y_train))\n",
    "    if classifier == 'xgb' or classifier == 'all':\n",
    "        models.append(model_build(XGBClassifier(n_estimators=150), X_train, y_train))\n",
    "        models.append(model_build(XGBClassifier(n_estimators=150), X_train_b, y_train))\n",
    "        models.append(model_build(XGBClassifier(n_estimators=150), X_train_t, y_train))\n",
    "    if classifier == 'dt' or classifier == 'all':\n",
    "        models.append(model_build(DecisionTreeClassifier(), X_train, y_train))\n",
    "        models.append(model_build(DecisionTreeClassifier(), X_train_b, y_train))\n",
    "        models.append(model_build(DecisionTreeClassifier(), X_train_t, y_train))\n",
    "    \n",
    "    preds = []\n",
    "    index = 0\n",
    "    for i in range(int(len(models)/3.0)):\n",
    "        preds.append(models[index].predict(X_test))\n",
    "        preds.append(models[index+1].predict(X_test_b))\n",
    "        preds.append(models[index+2].predict(X_test_t))\n",
    "        index = index + 3\n",
    "    \n",
    "    return preds\n",
    "    \n",
    "#Function for getting the back view feature set\n",
    "def get_back_view(X_train, X_test):\n",
    "    num_features = (len(X_train.columns)-2)/7\n",
    "    b_limit = int(num_features*3)+1\n",
    "    \n",
    "    X_train_b = X_train.iloc[:, :b_limit].copy()\n",
    "    X_test_b = X_test.iloc[:, :b_limit].copy()\n",
    "\n",
    "    return X_train_b.values, X_test_b.values\n",
    "\n",
    "#Function for getting the thigh view feature set\n",
    "def get_thigh_view(X_train, X_test):\n",
    "    num_features = (len(X_train.columns)-2)/7\n",
    "    b_limit = int(num_features*3)+1\n",
    "    t_limit = int(num_features*6)+2\n",
    "    \n",
    "    X_train_t = X_train.iloc[:, b_limit:t_limit].copy()\n",
    "    X_test_t = X_test.iloc[:, b_limit:t_limit].copy()\n",
    "    \n",
    "    return X_train_t.values, X_test_t.values\n"
   ]
  },
  {
   "cell_type": "markdown",
   "metadata": {},
   "source": [
    "# Training and results"
   ]
  },
  {
   "cell_type": "code",
   "execution_count": 9,
   "metadata": {},
   "outputs": [
    {
     "name": "stderr",
     "output_type": "stream",
     "text": [
      "C:\\Users\\ailee\\Anaconda3\\lib\\site-packages\\sklearn\\ensemble\\weight_boosting.py:29: DeprecationWarning: numpy.core.umath_tests is an internal NumPy module and should not be imported. It will be removed in a future NumPy release.\n",
      "  from numpy.core.umath_tests import inner1d\n"
     ]
    },
    {
     "name": "stdout",
     "output_type": "stream",
     "text": [
      "Accuracy:\n",
      "-----------------------------\n",
      "0.8645054031587698\n",
      "\n",
      "Confusion Matrix:\n",
      "-----------------------------\n"
     ]
    },
    {
     "data": {
      "image/png": "[encoded data removed]",
      "text/plain": [
       "<Figure size 288x288 with 2 Axes>"
      ]
     },
     "metadata": {
      "needs_background": "light"
     },
     "output_type": "display_data"
    },
    {
     "name": "stdout",
     "output_type": "stream",
     "text": [
      "\n",
      "Classification Report:\n",
      "-----------------------------\n",
      "             precision    recall  f1-score   support\n",
      "\n",
      "          1    0.90333   0.89323   0.89825      1611\n",
      "          2    0.78844   0.80629   0.79726       795\n",
      "\n",
      "avg / total    0.86536   0.86451   0.86488      2406\n",
      "\n",
      "TP, FN, FP, TN: 641, 154, 172, 1439\n",
      "Sensitivity:0.8932340161390441\n",
      "Specificity:0.8062893081761007\n",
      "G-mean:0.8486489479826802\n"
     ]
    }
   ],
   "source": [
    "from sklearn.ensemble import RandomForestClassifier\n",
    "from sklearn.tree import DecisionTreeClassifier\n",
    "from xgboost import XGBClassifier\n",
    "import time\n",
    "\n",
    "multiview(X_train, y_train, X_test, y_test, 'dt')\n"
   ]
  },
  {
   "cell_type": "code",
   "execution_count": 10,
   "metadata": {},
   "outputs": [
    {
     "name": "stdout",
     "output_type": "stream",
     "text": [
      "Accuracy:\n",
      "-----------------------------\n",
      "0.9168744804655029\n",
      "\n",
      "Confusion Matrix:\n",
      "-----------------------------\n"
     ]
    },
    {
     "data": {
      "image/png": "[encoded data removed]",
      "text/plain": [
       "<Figure size 288x288 with 2 Axes>"
      ]
     },
     "metadata": {},
     "output_type": "display_data"
    },
    {
     "name": "stdout",
     "output_type": "stream",
     "text": [
      "\n",
      "Classification Report:\n",
      "-----------------------------\n",
      "             precision    recall  f1-score   support\n",
      "\n",
      "          1    0.91770   0.96214   0.93939      1611\n",
      "          2    0.91492   0.82516   0.86772       795\n",
      "\n",
      "avg / total    0.91678   0.91687   0.91571      2406\n",
      "\n",
      "TP, FN, FP, TN: 656, 139, 61, 1550\n",
      "Sensitivity:0.9621353196772191\n",
      "Specificity:0.8251572327044026\n",
      "G-mean:0.8910179110837334\n"
     ]
    }
   ],
   "source": [
    "multiview(X_train, y_train, X_test, y_test, 'rf')"
   ]
  },
  {
   "cell_type": "code",
   "execution_count": 11,
   "metadata": {},
   "outputs": [
    {
     "name": "stdout",
     "output_type": "stream",
     "text": [
      "Accuracy:\n",
      "-----------------------------\n",
      "0.9334995843724023\n",
      "\n",
      "Confusion Matrix:\n",
      "-----------------------------\n"
     ]
    },
    {
     "name": "stderr",
     "output_type": "stream",
     "text": [
      "C:\\Users\\ailee\\Anaconda3\\lib\\site-packages\\sklearn\\preprocessing\\label.py:151: DeprecationWarning: The truth value of an empty array is ambiguous. Returning False, but in future this will result in an error. Use `array.size > 0` to check that an array is not empty.\n",
      "  if diff:\n",
      "C:\\Users\\ailee\\Anaconda3\\lib\\site-packages\\sklearn\\preprocessing\\label.py:151: DeprecationWarning: The truth value of an empty array is ambiguous. Returning False, but in future this will result in an error. Use `array.size > 0` to check that an array is not empty.\n",
      "  if diff:\n",
      "C:\\Users\\ailee\\Anaconda3\\lib\\site-packages\\sklearn\\preprocessing\\label.py:151: DeprecationWarning: The truth value of an empty array is ambiguous. Returning False, but in future this will result in an error. Use `array.size > 0` to check that an array is not empty.\n",
      "  if diff:\n"
     ]
    },
    {
     "data": {
      "image/png": "[encoded data removed]",
      "text/plain": [
       "<Figure size 288x288 with 2 Axes>"
      ]
     },
     "metadata": {},
     "output_type": "display_data"
    },
    {
     "name": "stdout",
     "output_type": "stream",
     "text": [
      "\n",
      "Classification Report:\n",
      "-----------------------------\n",
      "             precision    recall  f1-score   support\n",
      "\n",
      "          1    0.92402   0.98138   0.95184      1611\n",
      "          2    0.95683   0.83648   0.89262       795\n",
      "\n",
      "avg / total    0.93486   0.93350   0.93227      2406\n",
      "\n",
      "TP, FN, FP, TN: 665, 130, 30, 1581\n",
      "Sensitivity:0.9813780260707635\n",
      "Specificity:0.8364779874213837\n",
      "G-mean:0.9060359353509343\n"
     ]
    }
   ],
   "source": [
    "multiview(X_train, y_train, X_test, y_test, 'xgb')"
   ]
  },
  {
   "cell_type": "code",
   "execution_count": 12,
   "metadata": {},
   "outputs": [
    {
     "name": "stdout",
     "output_type": "stream",
     "text": [
      "Accuracy:\n",
      "-----------------------------\n",
      "0.9326683291770573\n",
      "\n",
      "Confusion Matrix:\n",
      "-----------------------------\n"
     ]
    },
    {
     "name": "stderr",
     "output_type": "stream",
     "text": [
      "C:\\Users\\ailee\\Anaconda3\\lib\\site-packages\\sklearn\\preprocessing\\label.py:151: DeprecationWarning: The truth value of an empty array is ambiguous. Returning False, but in future this will result in an error. Use `array.size > 0` to check that an array is not empty.\n",
      "  if diff:\n",
      "C:\\Users\\ailee\\Anaconda3\\lib\\site-packages\\sklearn\\preprocessing\\label.py:151: DeprecationWarning: The truth value of an empty array is ambiguous. Returning False, but in future this will result in an error. Use `array.size > 0` to check that an array is not empty.\n",
      "  if diff:\n",
      "C:\\Users\\ailee\\Anaconda3\\lib\\site-packages\\sklearn\\preprocessing\\label.py:151: DeprecationWarning: The truth value of an empty array is ambiguous. Returning False, but in future this will result in an error. Use `array.size > 0` to check that an array is not empty.\n",
      "  if diff:\n"
     ]
    },
    {
     "data": {
      "image/png": "[encoded data removed]",
      "text/plain": [
       "<Figure size 288x288 with 2 Axes>"
      ]
     },
     "metadata": {},
     "output_type": "display_data"
    },
    {
     "name": "stdout",
     "output_type": "stream",
     "text": [
      "\n",
      "Classification Report:\n",
      "-----------------------------\n",
      "             precision    recall  f1-score   support\n",
      "\n",
      "          1    0.92147   0.98324   0.95135      1611\n",
      "          2    0.96070   0.83019   0.89069       795\n",
      "\n",
      "avg / total    0.93443   0.93267   0.93131      2406\n",
      "\n",
      "TP, FN, FP, TN: 660, 135, 27, 1584\n",
      "Sensitivity:0.9832402234636871\n",
      "Specificity:0.8301886792452831\n",
      "G-mean:0.90347933152793\n"
     ]
    }
   ],
   "source": [
    "multiview(X_train, y_train, X_test, y_test, 'all')"
   ]
  }
 ],
 "metadata": {
  "kernelspec": {
   "display_name": "Python 3",
   "language": "python",
   "name": "python3"
  },
  "language_info": {
   "codemirror_mode": {
    "name": "ipython",
    "version": 3
   },
   "file_extension": ".py",
   "mimetype": "text/x-python",
   "name": "python",
   "nbconvert_exporter": "python",
   "pygments_lexer": "ipython3",
   "version": "3.7.0"
  }
 },
 "nbformat": 4,
 "nbformat_minor": 2
}
