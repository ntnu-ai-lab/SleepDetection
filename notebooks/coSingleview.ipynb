{
 "cells": [
  {
   "cell_type": "markdown",
   "metadata": {},
   "source": [
    "# Overview\n",
    "The task is to identify sleep patterns given samples of accelerometer data. "
   ]
  },
  {
   "cell_type": "code",
   "execution_count": 1,
   "metadata": {},
   "outputs": [],
   "source": [
    "# Render our plots inline\n",
    "%matplotlib inline\n",
    "\n",
    "import numpy as np\n",
    "import h5py\n",
    "import pandas as pd\n",
    "import datetime \n",
    "import matplotlib.pyplot as plt\n",
    "from pandas import HDFStore,DataFrame\n",
    "import itertools\n"
   ]
  },
  {
   "cell_type": "code",
   "execution_count": 2,
   "metadata": {},
   "outputs": [],
   "source": [
    "def load_data(filename):\n",
    "    path = 'D:/path/'+ filename\n",
    "    hf = h5py.File(path, 'r')\n",
    "\n",
    "    reread = pd.read_hdf(path)\n",
    "    data = reread#.head(10000)\n",
    "    hf.close()\n",
    "    return data\n",
    "\n",
    "def load_csv(filename):\n",
    "    data = pd.read_csv('D:/path/'+ filename)\n",
    "    \n",
    "    return data\n",
    "\n",
    "def load_targets(subject_number):\n",
    "    filename = 'D:/path/ID'+str(subject_number)+'/PSG'+ str(subject_number) +'_targets.h5'\n",
    "    hf = h5py.File(filename, 'r')\n",
    "\n",
    "    reread = pd.read_hdf(filename)\n",
    "    targets = reread#.head(10000)\n",
    "    hf.close()\n",
    "    return targets\n",
    "\n",
    "def load_features(subject_number):\n",
    "    filename = 'D:/path/ID'+str(subject_number)+'/PSG'+ str(subject_number) +'_features.h5'\n",
    "    hf = h5py.File(filename, 'r')\n",
    "\n",
    "    reread = pd.read_hdf(filename)\n",
    "    features = reread#.head(10000)\n",
    "    hf.close()\n",
    "    return features"
   ]
  },
  {
   "cell_type": "code",
   "execution_count": 3,
   "metadata": {},
   "outputs": [],
   "source": [
    "def combine_data(subject_ids):\n",
    "    \n",
    "    data = []\n",
    "    y = []\n",
    "    \n",
    "    \n",
    "    for i in range(len(subject_ids)):\n",
    "        \n",
    "        features = load_features(subject_ids[i])\n",
    "        targets = load_targets(subject_ids[i])\n",
    "        \n",
    "        data.append(features)\n",
    "        y.append(targets)\n",
    "    \n",
    "    result_X = pd.concat(data)\n",
    "    result_X = result_X.reset_index()\n",
    "    result_X = result_X.drop(['index'], axis = 1)\n",
    "    \n",
    "    result_y = pd.concat(y)\n",
    "    result_y = result_y.reset_index()\n",
    "    result_y = result_y.drop(['index'], axis = 1)\n",
    "    \n",
    "    return result_X.values, result_y.values.ravel()"
   ]
  },
  {
   "cell_type": "code",
   "execution_count": 4,
   "metadata": {},
   "outputs": [],
   "source": [
    "# subject_ids = [1,6,14,15,18,19,20,23,24,25,27,28,29,30,31,32,35,37,39]\n",
    "\n",
    "unlabelled_ids =[6, 15, 19, 20, 24, 25, 27, 28, 30, 31, 32, 35]\n",
    "\n",
    "train_ids =[1, 23, 29, 37, 39]\n",
    "\n",
    "test_ids = [14, 18]\n",
    "\n",
    "X_train, y_train = combine_data(train_ids)\n",
    "X_test, y_test = combine_data(test_ids)\n",
    "X_unl, y_unl = combine_data(unlabelled_ids)\n",
    "extra_unl = load_data('Unlabelled_data.h5').values"
   ]
  },
  {
   "cell_type": "code",
   "execution_count": 5,
   "metadata": {},
   "outputs": [],
   "source": [
    "unlabelled = np.concatenate([X_unl.copy(), extra_unl.copy()])"
   ]
  },
  {
   "cell_type": "markdown",
   "metadata": {},
   "source": [
    "# Model building and evaluation"
   ]
  },
  {
   "cell_type": "code",
   "execution_count": 8,
   "metadata": {},
   "outputs": [],
   "source": [
    "import sklearn.metrics as met\n",
    "import seaborn as sn\n",
    "import math\n",
    "    \n",
    "#helper function to quickly build different models\n",
    "def model_build(model, X_train, y_train):\n",
    "    model.fit(X_train, y_train)\n",
    "    return model\n",
    "\n",
    "def plot_confusion_matrix(array):\n",
    "    array = array\n",
    "    x_labels = ['sleep', 'wake']\n",
    "    y_labels = ['sleep', 'wake']\n",
    "    df_cm = pd.DataFrame(array, y_labels,x_labels)\n",
    "    plt.figure(figsize = (4,4))\n",
    "    sn.set(font_scale=1.4)#for label size\n",
    "    sn.heatmap(df_cm, annot=True, annot_kws={\"size\": 16}, cmap=\"YlGnBu\", fmt='g')# font size\n",
    "    plt.show()\n",
    "\n",
    "# helper function to handle evaluation\n",
    "def model_eval(model, X_test, y_test):\n",
    "    pred = model.predict(X_test)\n",
    "    print('Accuracy:\\n-----------------------------')\n",
    "    print(met.accuracy_score(y_test, pred))\n",
    "    print('\\nConfusion Matrix:\\n-----------------------------')\n",
    "    conf = met.confusion_matrix(y_test, pred)\n",
    "    plot_confusion_matrix(conf)\n",
    "    print('\\nClassification Report:\\n-----------------------------')\n",
    "    print(met.classification_report(y_test, pred, digits= 5))\n",
    "    \n",
    "    TP = conf.tolist()[0][0]\n",
    "    FN = conf.tolist()[0][1]\n",
    "    FP = conf.tolist()[1][0]\n",
    "    TN = conf.tolist()[1][1]\n",
    "    sen = TP/(TP+FN)\n",
    "    spe = TN/(TN+FP)\n",
    "    gmean= math.sqrt(sen*spe)\n",
    "    \n",
    "    print('TP, FN, FP, TN: '+ str(TN)+', '+ str(FP)+', '+str(FN)+', '+str(TP))\n",
    "    print('Sensitivity:' + str(sen))\n",
    "    print('Specificity:' + str(spe))\n",
    "    print('G-mean:'+ str(gmean))"
   ]
  },
  {
   "cell_type": "code",
   "execution_count": 9,
   "metadata": {},
   "outputs": [
    {
     "name": "stderr",
     "output_type": "stream",
     "text": [
      "C:\\Users\\ailee\\Anaconda3\\lib\\site-packages\\sklearn\\ensemble\\weight_boosting.py:29: DeprecationWarning: numpy.core.umath_tests is an internal NumPy module and should not be imported. It will be removed in a future NumPy release.\n",
      "  from numpy.core.umath_tests import inner1d\n",
      "C:\\Users\\ailee\\Anaconda3\\lib\\site-packages\\sklearn\\cross_validation.py:41: DeprecationWarning: This module was deprecated in version 0.18 in favor of the model_selection module into which all the refactored classes and functions are moved. Also note that the interface of the new CV iterators are different from that of this module. This module will be removed in 0.20.\n",
      "  \"This module will be removed in 0.20.\", DeprecationWarning)\n"
     ]
    }
   ],
   "source": [
    "from sklearn.metrics import accuracy_score\n",
    "\n",
    "# Random Forest\n",
    "from sklearn.ensemble import RandomForestClassifier\n",
    "# Extreme Gradient Boosting\n",
    "from xgboost import XGBClassifier\n",
    "#import xgboost as xgb\n",
    "from sklearn.svm import SVC  \n",
    "\n",
    "from sklearn.cross_validation import train_test_split, cross_val_score\n",
    "\n",
    "#The co-Training singleview method.\n",
    "def CoSV(X_train, y_train, unlabelled_data, X_test, y_test):\n",
    "    \n",
    "    print('Unlabelled data left: ' +str(len(unlabelled_data)))\n",
    "    \n",
    "    #Set initial value for k\n",
    "    k = 0.001\n",
    "\n",
    "    #While instances left in unlabelled update labelled and unlabelled data sets.\n",
    "    while len(unlabelled_data)>0:\n",
    "        X_train, y_train, unlabelled_data, k = add_unlabelled(X_train, y_train, unlabelled_data, k)\n",
    "    \n",
    "    return X_train, y_train\n",
    "    \n",
    "\n",
    "#This method removed the instances from the unlabelled data set with a prediction confidence from the most accurate classifier\n",
    "#that is above a set threshold and adds them to the labelled data set. \n",
    "def add_unlabelled(X_train, y_train, unlabelled_data, k):\n",
    "    \n",
    "    #Number of instances left in unlabelled\n",
    "    length = len(unlabelled_data)\n",
    "    \n",
    "    #Get the current most accurate classifier\n",
    "    model = get_most_accurate(X_train, y_train)\n",
    "    \n",
    "    #Train specified classifier\n",
    "    if model == 'rf':\n",
    "        classifier = model_build(RandomForestClassifier(n_estimators=20), X_train, y_train)\n",
    "    else:\n",
    "        classifier = model_build(XGBClassifier(n_estimators=150), X_train, y_train)\n",
    "    \n",
    "    #Get lists containing instances with most confident predictions and updated unlabelled data set\n",
    "    highest_conf_X, highest_conf_y, unlabelled_data = get_most_confident(classifier, unlabelled_data, k)\n",
    "    \n",
    "    #Combine labelled data with lists\n",
    "    X_train = np.concatenate([X_train, highest_conf_X])\n",
    "    y_train = np.concatenate([y_train, highest_conf_y])\n",
    "    \n",
    "    #Update k value\n",
    "    if (length - len(unlabelled_data)) < 1000 and k<0.64:\n",
    "        k = k*2\n",
    "    \n",
    "    print('Unlabelled data left: '+str(len(unlabelled_data)))\n",
    "        \n",
    "    return X_train, y_train, unlabelled_data, k\n",
    "\n",
    "\n",
    "#This method returns the instances in unlabelled with predictions over a set threshold and removed them from the unlabelled data\n",
    "#set. The updated unlabelled data set is also returned.\n",
    "def get_most_confident(classifier, unlabelled_data, k):\n",
    "    \n",
    "    #Set threshold\n",
    "    confidences = classifier.predict_proba(unlabelled_data)\n",
    "    highest_value = np.amax(confidences)\n",
    "    length = len(unlabelled_data)\n",
    "    threshold = highest_value - k\n",
    "\n",
    "    #Create empty lists for instances with highest prediction confidences\n",
    "    highest_conf_X = []\n",
    "    highest_conf_y = []\n",
    "\n",
    "    #Instances/rows left in unlabelled data\n",
    "    instances = np.copy(unlabelled_data)\n",
    "    \n",
    "    index = 0\n",
    "    for i in range(len(instances)):\n",
    "        #Gets the prediction confidences for the instance\n",
    "        instance = instances[i]\n",
    "        conf = confidences[i]\n",
    "\n",
    "        sleep_conf = conf[0]\n",
    "        wake_conf = conf[1]\n",
    "        \n",
    "        #Checks which prediction is the most confident and if it is above threshold add the instance to labelled\n",
    "        # and removed from unlabelled\n",
    "        if sleep_conf > wake_conf and sleep_conf>threshold:\n",
    "            highest_conf_y.append(1)\n",
    "            highest_conf_X.append(instance)\n",
    "            unlabelled_data = np.delete(unlabelled_data, index, 0)\n",
    "        elif wake_conf >= sleep_conf and wake_conf>threshold:\n",
    "            highest_conf_y.append(2)\n",
    "            highest_conf_X.append(instance)\n",
    "            unlabelled_data = np.delete(unlabelled_data, index, 0)\n",
    "        else:\n",
    "            #If no instance is added to labelled then the index is increased\n",
    "            index = index + 1\n",
    "    \n",
    "    return highest_conf_X, highest_conf_y, unlabelled_data\n",
    "\n",
    "\n",
    "# returns the most acurate classifier between random forest and xgb based on the current labelled data set\n",
    "def get_most_accurate(labelled_data_X, labelled_data_y):\n",
    "\n",
    "    #Splits the labelled data into training and testing sets\n",
    "    X_train, X_test, y_train, y_test = train_test_split(labelled_data_X, labelled_data_y, test_size = .25, random_state=1)\n",
    "    \n",
    "    #Trains RF classifier and gets accuracy score\n",
    "    rf = model_build(RandomForestClassifier(n_estimators=20), X_train, y_train.ravel())\n",
    "    rf_pred = rf.predict(X_test)\n",
    "    rf_acc = accuracy_score(y_test.ravel(), rf_pred)\n",
    "    \n",
    "    #Trains XGB classifier and gets accuracy score\n",
    "    xgbc = model_build(XGBClassifier(n_estimators=150), X_train, y_train.ravel())\n",
    "    xgb_pred = xgbc.predict(X_test)\n",
    "    xgb_acc = accuracy_score(y_test.ravel(), xgb_pred)\n",
    "    \n",
    "    #Returns the classifier with the highest accuracy score\n",
    "    if rf_acc > xgb_acc:\n",
    "        return 'rf'\n",
    "    else:\n",
    "        return 'xgb'\n",
    "                            "
   ]
  },
  {
   "cell_type": "markdown",
   "metadata": {},
   "source": [
    "# Training and validation"
   ]
  },
  {
   "cell_type": "code",
   "execution_count": 10,
   "metadata": {},
   "outputs": [
    {
     "name": "stdout",
     "output_type": "stream",
     "text": [
      "Unlabelled data left: 53221\n"
     ]
    },
    {
     "name": "stderr",
     "output_type": "stream",
     "text": [
      "C:\\Users\\ailee\\Anaconda3\\lib\\site-packages\\sklearn\\preprocessing\\label.py:151: DeprecationWarning: The truth value of an empty array is ambiguous. Returning False, but in future this will result in an error. Use `array.size > 0` to check that an array is not empty.\n",
      "  if diff:\n"
     ]
    },
    {
     "name": "stdout",
     "output_type": "stream",
     "text": [
      "Unlabelled data left: 41020\n"
     ]
    },
    {
     "name": "stderr",
     "output_type": "stream",
     "text": [
      "C:\\Users\\ailee\\Anaconda3\\lib\\site-packages\\sklearn\\preprocessing\\label.py:151: DeprecationWarning: The truth value of an empty array is ambiguous. Returning False, but in future this will result in an error. Use `array.size > 0` to check that an array is not empty.\n",
      "  if diff:\n"
     ]
    },
    {
     "name": "stdout",
     "output_type": "stream",
     "text": [
      "Unlabelled data left: 27687\n"
     ]
    },
    {
     "name": "stderr",
     "output_type": "stream",
     "text": [
      "C:\\Users\\ailee\\Anaconda3\\lib\\site-packages\\sklearn\\preprocessing\\label.py:151: DeprecationWarning: The truth value of an empty array is ambiguous. Returning False, but in future this will result in an error. Use `array.size > 0` to check that an array is not empty.\n",
      "  if diff:\n"
     ]
    },
    {
     "name": "stdout",
     "output_type": "stream",
     "text": [
      "Unlabelled data left: 18681\n"
     ]
    },
    {
     "name": "stderr",
     "output_type": "stream",
     "text": [
      "C:\\Users\\ailee\\Anaconda3\\lib\\site-packages\\sklearn\\preprocessing\\label.py:151: DeprecationWarning: The truth value of an empty array is ambiguous. Returning False, but in future this will result in an error. Use `array.size > 0` to check that an array is not empty.\n",
      "  if diff:\n"
     ]
    },
    {
     "name": "stdout",
     "output_type": "stream",
     "text": [
      "Unlabelled data left: 13257\n"
     ]
    },
    {
     "name": "stderr",
     "output_type": "stream",
     "text": [
      "C:\\Users\\ailee\\Anaconda3\\lib\\site-packages\\sklearn\\preprocessing\\label.py:151: DeprecationWarning: The truth value of an empty array is ambiguous. Returning False, but in future this will result in an error. Use `array.size > 0` to check that an array is not empty.\n",
      "  if diff:\n"
     ]
    },
    {
     "name": "stdout",
     "output_type": "stream",
     "text": [
      "Unlabelled data left: 9793\n"
     ]
    },
    {
     "name": "stderr",
     "output_type": "stream",
     "text": [
      "C:\\Users\\ailee\\Anaconda3\\lib\\site-packages\\sklearn\\preprocessing\\label.py:151: DeprecationWarning: The truth value of an empty array is ambiguous. Returning False, but in future this will result in an error. Use `array.size > 0` to check that an array is not empty.\n",
      "  if diff:\n"
     ]
    },
    {
     "name": "stdout",
     "output_type": "stream",
     "text": [
      "Unlabelled data left: 7845\n"
     ]
    },
    {
     "name": "stderr",
     "output_type": "stream",
     "text": [
      "C:\\Users\\ailee\\Anaconda3\\lib\\site-packages\\sklearn\\preprocessing\\label.py:151: DeprecationWarning: The truth value of an empty array is ambiguous. Returning False, but in future this will result in an error. Use `array.size > 0` to check that an array is not empty.\n",
      "  if diff:\n"
     ]
    },
    {
     "name": "stdout",
     "output_type": "stream",
     "text": [
      "Unlabelled data left: 6451\n"
     ]
    },
    {
     "name": "stderr",
     "output_type": "stream",
     "text": [
      "C:\\Users\\ailee\\Anaconda3\\lib\\site-packages\\sklearn\\preprocessing\\label.py:151: DeprecationWarning: The truth value of an empty array is ambiguous. Returning False, but in future this will result in an error. Use `array.size > 0` to check that an array is not empty.\n",
      "  if diff:\n"
     ]
    },
    {
     "name": "stdout",
     "output_type": "stream",
     "text": [
      "Unlabelled data left: 5678\n"
     ]
    },
    {
     "name": "stderr",
     "output_type": "stream",
     "text": [
      "C:\\Users\\ailee\\Anaconda3\\lib\\site-packages\\sklearn\\preprocessing\\label.py:151: DeprecationWarning: The truth value of an empty array is ambiguous. Returning False, but in future this will result in an error. Use `array.size > 0` to check that an array is not empty.\n",
      "  if diff:\n"
     ]
    },
    {
     "name": "stdout",
     "output_type": "stream",
     "text": [
      "Unlabelled data left: 5148\n"
     ]
    },
    {
     "name": "stderr",
     "output_type": "stream",
     "text": [
      "C:\\Users\\ailee\\Anaconda3\\lib\\site-packages\\sklearn\\preprocessing\\label.py:151: DeprecationWarning: The truth value of an empty array is ambiguous. Returning False, but in future this will result in an error. Use `array.size > 0` to check that an array is not empty.\n",
      "  if diff:\n"
     ]
    },
    {
     "name": "stdout",
     "output_type": "stream",
     "text": [
      "Unlabelled data left: 4779\n"
     ]
    },
    {
     "name": "stderr",
     "output_type": "stream",
     "text": [
      "C:\\Users\\ailee\\Anaconda3\\lib\\site-packages\\sklearn\\preprocessing\\label.py:151: DeprecationWarning: The truth value of an empty array is ambiguous. Returning False, but in future this will result in an error. Use `array.size > 0` to check that an array is not empty.\n",
      "  if diff:\n"
     ]
    },
    {
     "name": "stdout",
     "output_type": "stream",
     "text": [
      "Unlabelled data left: 4463\n"
     ]
    },
    {
     "name": "stderr",
     "output_type": "stream",
     "text": [
      "C:\\Users\\ailee\\Anaconda3\\lib\\site-packages\\sklearn\\preprocessing\\label.py:151: DeprecationWarning: The truth value of an empty array is ambiguous. Returning False, but in future this will result in an error. Use `array.size > 0` to check that an array is not empty.\n",
      "  if diff:\n"
     ]
    },
    {
     "name": "stdout",
     "output_type": "stream",
     "text": [
      "Unlabelled data left: 4200\n"
     ]
    },
    {
     "name": "stderr",
     "output_type": "stream",
     "text": [
      "C:\\Users\\ailee\\Anaconda3\\lib\\site-packages\\sklearn\\preprocessing\\label.py:151: DeprecationWarning: The truth value of an empty array is ambiguous. Returning False, but in future this will result in an error. Use `array.size > 0` to check that an array is not empty.\n",
      "  if diff:\n"
     ]
    },
    {
     "name": "stdout",
     "output_type": "stream",
     "text": [
      "Unlabelled data left: 4037\n"
     ]
    },
    {
     "name": "stderr",
     "output_type": "stream",
     "text": [
      "C:\\Users\\ailee\\Anaconda3\\lib\\site-packages\\sklearn\\preprocessing\\label.py:151: DeprecationWarning: The truth value of an empty array is ambiguous. Returning False, but in future this will result in an error. Use `array.size > 0` to check that an array is not empty.\n",
      "  if diff:\n"
     ]
    },
    {
     "name": "stdout",
     "output_type": "stream",
     "text": [
      "Unlabelled data left: 3490\n"
     ]
    },
    {
     "name": "stderr",
     "output_type": "stream",
     "text": [
      "C:\\Users\\ailee\\Anaconda3\\lib\\site-packages\\sklearn\\preprocessing\\label.py:151: DeprecationWarning: The truth value of an empty array is ambiguous. Returning False, but in future this will result in an error. Use `array.size > 0` to check that an array is not empty.\n",
      "  if diff:\n"
     ]
    },
    {
     "name": "stdout",
     "output_type": "stream",
     "text": [
      "Unlabelled data left: 3012\n"
     ]
    },
    {
     "name": "stderr",
     "output_type": "stream",
     "text": [
      "C:\\Users\\ailee\\Anaconda3\\lib\\site-packages\\sklearn\\preprocessing\\label.py:151: DeprecationWarning: The truth value of an empty array is ambiguous. Returning False, but in future this will result in an error. Use `array.size > 0` to check that an array is not empty.\n",
      "  if diff:\n"
     ]
    },
    {
     "name": "stdout",
     "output_type": "stream",
     "text": [
      "Unlabelled data left: 2116\n"
     ]
    },
    {
     "name": "stderr",
     "output_type": "stream",
     "text": [
      "C:\\Users\\ailee\\Anaconda3\\lib\\site-packages\\sklearn\\preprocessing\\label.py:151: DeprecationWarning: The truth value of an empty array is ambiguous. Returning False, but in future this will result in an error. Use `array.size > 0` to check that an array is not empty.\n",
      "  if diff:\n"
     ]
    },
    {
     "name": "stdout",
     "output_type": "stream",
     "text": [
      "Unlabelled data left: 0\n"
     ]
    }
   ],
   "source": [
    "#All features\n",
    "X_train_cosv, y_train_cosv = CoSV(X_train, y_train.ravel(), unlabelled, X_test, y_test)"
   ]
  },
  {
   "cell_type": "code",
   "execution_count": 17,
   "metadata": {},
   "outputs": [],
   "source": [
    "#Save data\n",
    "\n",
    "X = pd.DataFrame(X_train_cosv)\n",
    "y = pd.DataFrame(y_train_cosv)\n",
    "#X.to_hdf('X_train_cosv_0.h5', key = 'xtraincosv')\n",
    "#y.to_hdf('y_train_cosv_0.h5', key = 'ytraincosv')"
   ]
  },
  {
   "cell_type": "code",
   "execution_count": 13,
   "metadata": {},
   "outputs": [
    {
     "name": "stdout",
     "output_type": "stream",
     "text": [
      "Accuracy:\n",
      "-----------------------------\n",
      "0.830423940149626\n",
      "\n",
      "Confusion Matrix:\n",
      "-----------------------------\n"
     ]
    },
    {
     "data": {
      "image/png": "[encoded data removed]",
      "text/plain": [
       "<Figure size 288x288 with 2 Axes>"
      ]
     },
     "metadata": {
      "needs_background": "light"
     },
     "output_type": "display_data"
    },
    {
     "name": "stdout",
     "output_type": "stream",
     "text": [
      "\n",
      "Classification Report:\n",
      "-----------------------------\n",
      "             precision    recall  f1-score   support\n",
      "\n",
      "          1    0.87291   0.87399   0.87345      1611\n",
      "          2    0.74401   0.74214   0.74307       795\n",
      "\n",
      "avg / total    0.83032   0.83042   0.83037      2406\n",
      "\n",
      "TP, FN, FP, TN: 590, 205, 203, 1408\n",
      "Sensitivity:0.8739913097454997\n",
      "Specificity:0.7421383647798742\n",
      "G-mean:0.8053710209874363\n"
     ]
    }
   ],
   "source": [
    "# Decision tree\n",
    "from sklearn.tree import DecisionTreeClassifier\n",
    "\n",
    "dtc = model_build(DecisionTreeClassifier(), X_train, y_train)\n",
    "model_eval(dtc, X_test,y_test)"
   ]
  },
  {
   "cell_type": "code",
   "execution_count": 14,
   "metadata": {},
   "outputs": [
    {
     "name": "stdout",
     "output_type": "stream",
     "text": [
      "Accuracy:\n",
      "-----------------------------\n",
      "0.9123025768911056\n",
      "\n",
      "Confusion Matrix:\n",
      "-----------------------------\n"
     ]
    },
    {
     "data": {
      "image/png": "[encoded data removed]",
      "text/plain": [
       "<Figure size 288x288 with 2 Axes>"
      ]
     },
     "metadata": {},
     "output_type": "display_data"
    },
    {
     "name": "stdout",
     "output_type": "stream",
     "text": [
      "\n",
      "Classification Report:\n",
      "-----------------------------\n",
      "             precision    recall  f1-score   support\n",
      "\n",
      "          1    0.90650   0.96896   0.93669      1611\n",
      "          2    0.92690   0.79748   0.85734       795\n",
      "\n",
      "avg / total    0.91324   0.91230   0.91047      2406\n",
      "\n",
      "TP, FN, FP, TN: 634, 161, 50, 1561\n",
      "Sensitivity:0.9689633767846059\n",
      "Specificity:0.7974842767295598\n",
      "G-mean:0.8790523634644886\n"
     ]
    }
   ],
   "source": [
    "#Random Forest\n",
    "\n",
    "rfc = model_build(RandomForestClassifier(n_estimators=20), X_train, y_train)\n",
    "model_eval(rfc, X_test, y_test)"
   ]
  },
  {
   "cell_type": "code",
   "execution_count": 15,
   "metadata": {},
   "outputs": [
    {
     "name": "stdout",
     "output_type": "stream",
     "text": [
      "Accuracy:\n",
      "-----------------------------\n",
      "0.9197838736492103\n",
      "\n",
      "Confusion Matrix:\n",
      "-----------------------------\n"
     ]
    },
    {
     "name": "stderr",
     "output_type": "stream",
     "text": [
      "C:\\Users\\ailee\\Anaconda3\\lib\\site-packages\\sklearn\\preprocessing\\label.py:151: DeprecationWarning: The truth value of an empty array is ambiguous. Returning False, but in future this will result in an error. Use `array.size > 0` to check that an array is not empty.\n",
      "  if diff:\n"
     ]
    },
    {
     "data": {
      "image/png": "[encoded data removed]",
      "text/plain": [
       "<Figure size 288x288 with 2 Axes>"
      ]
     },
     "metadata": {},
     "output_type": "display_data"
    },
    {
     "name": "stdout",
     "output_type": "stream",
     "text": [
      "\n",
      "Classification Report:\n",
      "-----------------------------\n",
      "             precision    recall  f1-score   support\n",
      "\n",
      "          1    0.92202   0.96151   0.94136      1611\n",
      "          2    0.91460   0.83522   0.87311       795\n",
      "\n",
      "avg / total    0.91957   0.91978   0.91881      2406\n",
      "\n",
      "TP, FN, FP, TN: 664, 131, 62, 1549\n",
      "Sensitivity:0.9615145872129113\n",
      "Specificity:0.8352201257861636\n",
      "G-mean:0.8961452641604478\n"
     ]
    }
   ],
   "source": [
    "#XGBoost\n",
    "\n",
    "xgbc = model_build(XGBClassifier(n_estimators=150), X_train, y_train)\n",
    "model_eval(xgbc, X_test, y_test)"
   ]
  },
  {
   "cell_type": "code",
   "execution_count": 16,
   "metadata": {},
   "outputs": [
    {
     "name": "stderr",
     "output_type": "stream",
     "text": [
      "C:\\Users\\ailee\\Anaconda3\\lib\\site-packages\\sklearn\\preprocessing\\label.py:151: DeprecationWarning: The truth value of an empty array is ambiguous. Returning False, but in future this will result in an error. Use `array.size > 0` to check that an array is not empty.\n",
      "  if diff:\n"
     ]
    },
    {
     "data": {
      "image/png": "[encoded data removed]",
      "text/plain": [
       "<Figure size 432x288 with 1 Axes>"
      ]
     },
     "metadata": {},
     "output_type": "display_data"
    }
   ],
   "source": [
    "#ROC -curve\n",
    "\n",
    "pred_dt = dtc.predict(X_test)\n",
    "fpr_dt, tpr_dt, thresholds_dt = met.roc_curve(y_test, pred_dt, pos_label=1)\n",
    "\n",
    "pred_rf = rfc.predict(X_test)\n",
    "fpr_rf, tpr_rf, thresholds_rf = met.roc_curve(y_test, pred_rf, pos_label=1)\n",
    "\n",
    "pred_xgb = xgbc.predict(X_test)\n",
    "fpr_xgb, tpr_xgb, thresholds_dt = met.roc_curve(y_test, pred_xgb, pos_label=1)\n",
    "\n",
    "plt.figure(1)\n",
    "plt.plot([0, 1], [0, 1], 'k--')\n",
    "plt.plot(fpr_dt, tpr_dt, label='DT')\n",
    "plt.plot(fpr_rf, tpr_rf, label='RF')\n",
    "plt.plot(fpr_xgb, tpr_xgb, label='XGB')\n",
    "plt.xlabel('False positive rate')\n",
    "plt.ylabel('True positive rate')\n",
    "plt.title('ROC curve')\n",
    "plt.legend(loc='best')\n",
    "plt.show()"
   ]
  },
  {
   "cell_type": "code",
   "execution_count": null,
   "metadata": {},
   "outputs": [],
   "source": []
  }
 ],
 "metadata": {
  "kernelspec": {
   "display_name": "Python 3",
   "language": "python",
   "name": "python3"
  },
  "language_info": {
   "codemirror_mode": {
    "name": "ipython",
    "version": 3
   },
   "file_extension": ".py",
   "mimetype": "text/x-python",
   "name": "python",
   "nbconvert_exporter": "python",
   "pygments_lexer": "ipython3",
   "version": "3.7.0"
  }
 },
 "nbformat": 4,
 "nbformat_minor": 2
}
