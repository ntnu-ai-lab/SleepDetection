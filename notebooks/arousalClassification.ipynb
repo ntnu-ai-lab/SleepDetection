{
 "cells": [
  {
   "cell_type": "markdown",
   "metadata": {},
   "source": [
    "# Overview\n",
    "The task is to identify sleep patterns given samples of accelerometer data. "
   ]
  },
  {
   "cell_type": "code",
   "execution_count": 1,
   "metadata": {},
   "outputs": [],
   "source": [
    "# Render our plots inline\n",
    "%matplotlib inline\n",
    "\n",
    "import numpy as np\n",
    "import h5py\n",
    "import pandas as pd\n",
    "import datetime \n",
    "import matplotlib.pyplot as plt\n",
    "from pandas import HDFStore,DataFrame\n",
    "import itertools"
   ]
  },
  {
   "cell_type": "code",
   "execution_count": 2,
   "metadata": {},
   "outputs": [],
   "source": [
    "def load_data(filename):\n",
    "    path = 'C:/path/'+ filename\n",
    "    hf = h5py.File(path, 'r')\n",
    "\n",
    "    reread = pd.read_hdf(path)\n",
    "    data = reread#.head(10000)\n",
    "    hf.close()\n",
    "    return data\n",
    "\n",
    "def load_targets(subject_number):\n",
    "    filepath = 'C:/path/ID'+str(subject_number)+'/PSG'+ str(subject_number) +'_targets_all_arousals.h5'\n",
    "    hf = h5py.File(filepath, 'r')\n",
    "\n",
    "    reread = pd.read_hdf(filepath)\n",
    "    targets = reread#.head(10000)\n",
    "    hf.close()\n",
    "    return targets\n",
    "\n",
    "def load_features(subject_number):\n",
    "    filepath = 'C:/path/ID'+str(subject_number)+'/PSG'+ str(subject_number) +'_features.h5'\n",
    "    hf = h5py.File(filepath, 'r')\n",
    "\n",
    "    reread = pd.read_hdf(filepath)\n",
    "    features = reread#.head(10000)\n",
    "    hf.close()\n",
    "    return features"
   ]
  },
  {
   "cell_type": "code",
   "execution_count": 3,
   "metadata": {},
   "outputs": [],
   "source": [
    "def combine_data(subject_ids):\n",
    "    \n",
    "    data = []\n",
    "    y = []\n",
    "    \n",
    "    \n",
    "    for i in range(len(subject_ids)):\n",
    "        \n",
    "        features = load_features(subject_ids[i])\n",
    "        targets = load_targets(subject_ids[i])\n",
    "        \n",
    "        data.append(features)\n",
    "        y.append(targets)\n",
    "    \n",
    "    result_X = pd.concat(data)\n",
    "    result_X = result_X.reset_index()\n",
    "    result_X = result_X.drop(['index'], axis = 1)\n",
    "    \n",
    "    result_y = pd.concat(y)\n",
    "    result_y = result_y.reset_index()\n",
    "    result_y = result_y.drop(['index'], axis = 1)\n",
    "    \n",
    "    return result_X, result_y\n",
    "    "
   ]
  },
  {
   "cell_type": "code",
   "execution_count": 4,
   "metadata": {},
   "outputs": [],
   "source": [
    "subject_ids = [1,6,14,15,18,19,20,23,24,25,27,28,29,30,31,32,35,37,39]\n",
    "\n",
    "train_ids =[1, 6, 15, 19, 20, 23, 24, 25, 27, 28, 29, 30, 31, 32, 35, 37, 39]\n",
    "\n",
    "test_ids = [14, 18]\n",
    "\n",
    "X_train, y_train = combine_data(train_ids)\n",
    "X_test, y_test = combine_data(test_ids)\n"
   ]
  },
  {
   "cell_type": "code",
   "execution_count": 5,
   "metadata": {},
   "outputs": [],
   "source": [
    "def balance_dataset(X, y, n):\n",
    "\n",
    "    y.columns = ['target']\n",
    "    df = pd.concat([X, y], axis=1, sort=False)\n",
    "        \n",
    "    is_arousal = df['target'] == 0\n",
    "    df_arousals = df[is_arousal]\n",
    "    df_test = df.append([df_arousals]*n,ignore_index=True)\n",
    "        \n",
    "    targets = pd.DataFrame(data =df_test['target'].copy())\n",
    "    features = df_test.drop(['target'], axis = 1).copy()\n",
    "        \n",
    "    return features, targets"
   ]
  },
  {
   "cell_type": "code",
   "execution_count": 6,
   "metadata": {},
   "outputs": [],
   "source": [
    "#X_train, y_train = balance_dataset(X_train, y_train, 5)"
   ]
  },
  {
   "cell_type": "code",
   "execution_count": 7,
   "metadata": {},
   "outputs": [],
   "source": [
    "#y_train[0].value_counts()\n",
    "#y_train['target'].value_counts()"
   ]
  },
  {
   "cell_type": "code",
   "execution_count": 8,
   "metadata": {},
   "outputs": [],
   "source": [
    "X_train = X_train.copy().values\n",
    "X_test = X_test.copy().values\n",
    "\n",
    "y_train = y_train.copy().values\n",
    "y_test = y_test.copy().values"
   ]
  },
  {
   "cell_type": "code",
   "execution_count": 9,
   "metadata": {},
   "outputs": [],
   "source": [
    "#combine train and test for feature selection\n",
    "\n",
    "test_index = len(y_train)\n",
    "\n",
    "X = np.concatenate([X_train, X_test])\n",
    "y = np.concatenate([y_train, y_test])"
   ]
  },
  {
   "cell_type": "markdown",
   "metadata": {},
   "source": [
    "# Feature Selection"
   ]
  },
  {
   "cell_type": "code",
   "execution_count": 10,
   "metadata": {},
   "outputs": [
    {
     "name": "stdout",
     "output_type": "stream",
     "text": [
      "Number of features removed:35\n",
      "Number of features left:65\n"
     ]
    }
   ],
   "source": [
    "#Removing features with low variance\n",
    "# We want to remove all features that are either one or zero (on or off) in more than 80% of the samples\n",
    "from sklearn.feature_selection import VarianceThreshold\n",
    "\n",
    "sel = VarianceThreshold(threshold=(.80 * (1 - .80)))\n",
    "X_vt = sel.fit_transform(X)\n",
    "\n",
    "print('Number of features removed:' + str(X.shape[1]-X_vt.shape[1]))\n",
    "print('Number of features left:' + str(X_vt.shape[1]))"
   ]
  },
  {
   "cell_type": "code",
   "execution_count": 11,
   "metadata": {},
   "outputs": [
    {
     "name": "stdout",
     "output_type": "stream",
     "text": [
      "Number of features removed:80\n",
      "Number of features left:20\n"
     ]
    },
    {
     "name": "stderr",
     "output_type": "stream",
     "text": [
      "C:\\Users\\ailee\\Anaconda3\\lib\\site-packages\\sklearn\\utils\\validation.py:578: DataConversionWarning: A column-vector y was passed when a 1d array was expected. Please change the shape of y to (n_samples, ), for example using ravel().\n",
      "  y = column_or_1d(y, warn=True)\n"
     ]
    }
   ],
   "source": [
    "# Univariate feature selection - KBest\n",
    "from sklearn.feature_selection import SelectKBest, f_classif, mutual_info_classif\n",
    "\n",
    "X_uni_c = SelectKBest(f_classif, k=20).fit_transform(X, y)\n",
    "\n",
    "print('Number of features removed:' + str(X.shape[1]-X_uni_c.shape[1]))\n",
    "print('Number of features left:' + str(X_uni_c.shape[1]))"
   ]
  },
  {
   "cell_type": "code",
   "execution_count": 12,
   "metadata": {},
   "outputs": [
    {
     "name": "stderr",
     "output_type": "stream",
     "text": [
      "C:\\Users\\ailee\\Anaconda3\\lib\\site-packages\\sklearn\\utils\\validation.py:578: DataConversionWarning: A column-vector y was passed when a 1d array was expected. Please change the shape of y to (n_samples, ), for example using ravel().\n",
      "  y = column_or_1d(y, warn=True)\n"
     ]
    },
    {
     "name": "stdout",
     "output_type": "stream",
     "text": [
      "Number of features removed:31\n",
      "Number of features left:69\n"
     ]
    }
   ],
   "source": [
    "# L1-based feature selection\n",
    "from sklearn.svm import LinearSVC\n",
    "from sklearn.feature_selection import SelectFromModel\n",
    "\n",
    "lsvc = LinearSVC(C=0.01, penalty=\"l1\", dual=False).fit(X, y)\n",
    "model = SelectFromModel(lsvc, prefit=True)\n",
    "X_l1 = model.transform(X)\n",
    "\n",
    "print('Number of features removed:' + str(X.shape[1]-X_l1.shape[1]))\n",
    "print('Number of features left:' + str(X_l1.shape[1]))"
   ]
  },
  {
   "cell_type": "code",
   "execution_count": 13,
   "metadata": {},
   "outputs": [
    {
     "name": "stderr",
     "output_type": "stream",
     "text": [
      "C:\\Users\\ailee\\Anaconda3\\lib\\site-packages\\sklearn\\ensemble\\weight_boosting.py:29: DeprecationWarning: numpy.core.umath_tests is an internal NumPy module and should not be imported. It will be removed in a future NumPy release.\n",
      "  from numpy.core.umath_tests import inner1d\n",
      "C:\\Users\\ailee\\Anaconda3\\lib\\site-packages\\ipykernel_launcher.py:5: DataConversionWarning: A column-vector y was passed when a 1d array was expected. Please change the shape of y to (n_samples,), for example using ravel().\n",
      "  \"\"\"\n"
     ]
    },
    {
     "name": "stdout",
     "output_type": "stream",
     "text": [
      "Number of features removed:67\n",
      "Number of features left:33\n"
     ]
    }
   ],
   "source": [
    "# Tree-based feature selection\n",
    "from sklearn.ensemble import ExtraTreesClassifier\n",
    "\n",
    "clf = ExtraTreesClassifier(n_estimators=50)\n",
    "clf = clf.fit(X, y)\n",
    "#clf.feature_importances_\n",
    "model = SelectFromModel(clf, prefit=True)\n",
    "X_tree = model.transform(X)\n",
    "\n",
    "print('Number of features removed:' + str(X.shape[1]-X_tree.shape[1]))\n",
    "print('Number of features left:' + str(X_tree.shape[1]))"
   ]
  },
  {
   "cell_type": "code",
   "execution_count": 14,
   "metadata": {},
   "outputs": [],
   "source": [
    "#from sklearn.cross_validation import train_test_split, cross_val_score\n",
    "\n",
    "#x = X_vt\n",
    "\n",
    "#Train/test split for feature selection\n",
    "#X_train= x[0:test_index].copy()\n",
    "#X_test = x[test_index:].copy()\n",
    "\n",
    "#y_train = y[0:test_index].copy()\n",
    "#y_test = y[test_index:].copy()"
   ]
  },
  {
   "cell_type": "markdown",
   "metadata": {},
   "source": [
    "# Model building and evaluation"
   ]
  },
  {
   "cell_type": "code",
   "execution_count": 15,
   "metadata": {},
   "outputs": [
    {
     "name": "stderr",
     "output_type": "stream",
     "text": [
      "C:\\Users\\ailee\\Anaconda3\\lib\\site-packages\\sklearn\\cross_validation.py:41: DeprecationWarning: This module was deprecated in version 0.18 in favor of the model_selection module into which all the refactored classes and functions are moved. Also note that the interface of the new CV iterators are different from that of this module. This module will be removed in 0.20.\n",
      "  \"This module will be removed in 0.20.\", DeprecationWarning)\n"
     ]
    }
   ],
   "source": [
    "from sklearn.cross_validation import train_test_split, cross_val_score\n",
    "import sklearn.metrics as met\n",
    "import seaborn as sn\n",
    "    \n",
    "# helper function to quickly build different models\n",
    "def model_build(model, X_train, y_train):\n",
    "    model.fit(X_train, y_train)\n",
    "    return model\n",
    "\n",
    "def plot_confusion_matrix(array):\n",
    "    \n",
    "\n",
    "    x_labels = ['arousal','sleep', 'wake']\n",
    "    y_labels = ['arousal','sleep', 'wake']\n",
    "    array = array\n",
    "    df_cm = pd.DataFrame(array, y_labels,x_labels)\n",
    "    plt.figure(figsize = (4,4))\n",
    "    sn.set(font_scale=1.4)#for label size\n",
    "    sn.heatmap(df_cm, annot=True, annot_kws={\"size\": 16}, cmap=\"YlGnBu\", fmt='g')# font size\n",
    "    plt.show()\n",
    "\n",
    "# helper function to handle evaluation\n",
    "def model_eval(model, X_test, y_test):\n",
    "    pred = model.predict(X_test)\n",
    "\n",
    "    print('Accuracy:\\n-----------------------------')\n",
    "    print(met.accuracy_score(y_test, pred))\n",
    "    print('\\nConfusion Matrix:\\n-----------------------------')\n",
    "    conf = met.confusion_matrix(y_test, pred)\n",
    "    plot_confusion_matrix(conf)\n",
    "    #print(met.confusion_matrix(y_test, pred))\n",
    "    print('\\nClassification Report:\\n-----------------------------')\n",
    "    print(met.classification_report(y_test, pred, digits=4))\n",
    "\n"
   ]
  },
  {
   "cell_type": "markdown",
   "metadata": {},
   "source": [
    "# Training and results"
   ]
  },
  {
   "cell_type": "code",
   "execution_count": 16,
   "metadata": {},
   "outputs": [
    {
     "name": "stdout",
     "output_type": "stream",
     "text": [
      "Accuracy:\n",
      "-----------------------------\n",
      "0.4596841230257689\n",
      "\n",
      "Confusion Matrix:\n",
      "-----------------------------\n"
     ]
    },
    {
     "data": {
      "image/png": "[encoded data removed]",
      "text/plain": [
       "<Figure size 288x288 with 2 Axes>"
      ]
     },
     "metadata": {
      "needs_background": "light"
     },
     "output_type": "display_data"
    },
    {
     "name": "stdout",
     "output_type": "stream",
     "text": [
      "\n",
      "Classification Report:\n",
      "-----------------------------\n",
      "             precision    recall  f1-score   support\n",
      "\n",
      "          0     0.2173    0.2937    0.2498       555\n",
      "          1     0.6639    0.4527    0.5384      1248\n",
      "          2     0.4696    0.6269    0.5369       603\n",
      "\n",
      "avg / total     0.5122    0.4597    0.4714      2406\n",
      "\n"
     ]
    }
   ],
   "source": [
    "# Decision tree\n",
    "from sklearn.tree import DecisionTreeClassifier\n",
    "\n",
    "dtc = model_build(DecisionTreeClassifier(), X_train, y_train)\n",
    "model_eval(dtc, X_test,y_test)"
   ]
  },
  {
   "cell_type": "code",
   "execution_count": 17,
   "metadata": {},
   "outputs": [
    {
     "name": "stderr",
     "output_type": "stream",
     "text": [
      "C:\\Users\\ailee\\Anaconda3\\lib\\site-packages\\ipykernel_launcher.py:7: DataConversionWarning: A column-vector y was passed when a 1d array was expected. Please change the shape of y to (n_samples,), for example using ravel().\n",
      "  import sys\n"
     ]
    },
    {
     "name": "stdout",
     "output_type": "stream",
     "text": [
      "Accuracy:\n",
      "-----------------------------\n",
      "0.656691604322527\n",
      "\n",
      "Confusion Matrix:\n",
      "-----------------------------\n"
     ]
    },
    {
     "data": {
      "image/png": "[encoded data removed]",
      "text/plain": [
       "<Figure size 288x288 with 2 Axes>"
      ]
     },
     "metadata": {},
     "output_type": "display_data"
    },
    {
     "name": "stdout",
     "output_type": "stream",
     "text": [
      "\n",
      "Classification Report:\n",
      "-----------------------------\n",
      "             precision    recall  f1-score   support\n",
      "\n",
      "          0     0.3557    0.2775    0.3117       555\n",
      "          1     0.7295    0.7756    0.7518      1248\n",
      "          2     0.7090    0.7595    0.7334       603\n",
      "\n",
      "avg / total     0.6381    0.6567    0.6457      2406\n",
      "\n"
     ]
    }
   ],
   "source": [
    "# Random Forest\n",
    "from sklearn.ensemble import RandomForestClassifier\n",
    "\n",
    "rfc = model_build(RandomForestClassifier(n_estimators=20), X_train, y_train)\n",
    "model_eval(rfc, X_test, y_test)"
   ]
  },
  {
   "cell_type": "code",
   "execution_count": 18,
   "metadata": {},
   "outputs": [
    {
     "name": "stderr",
     "output_type": "stream",
     "text": [
      "C:\\Users\\ailee\\Anaconda3\\lib\\site-packages\\sklearn\\preprocessing\\label.py:95: DataConversionWarning: A column-vector y was passed when a 1d array was expected. Please change the shape of y to (n_samples, ), for example using ravel().\n",
      "  y = column_or_1d(y, warn=True)\n",
      "C:\\Users\\ailee\\Anaconda3\\lib\\site-packages\\sklearn\\preprocessing\\label.py:128: DataConversionWarning: A column-vector y was passed when a 1d array was expected. Please change the shape of y to (n_samples, ), for example using ravel().\n",
      "  y = column_or_1d(y, warn=True)\n"
     ]
    },
    {
     "name": "stdout",
     "output_type": "stream",
     "text": [
      "Accuracy:\n",
      "-----------------------------\n",
      "0.6974231088944306\n",
      "\n",
      "Confusion Matrix:\n",
      "-----------------------------\n"
     ]
    },
    {
     "name": "stderr",
     "output_type": "stream",
     "text": [
      "C:\\Users\\ailee\\Anaconda3\\lib\\site-packages\\sklearn\\preprocessing\\label.py:151: DeprecationWarning: The truth value of an empty array is ambiguous. Returning False, but in future this will result in an error. Use `array.size > 0` to check that an array is not empty.\n",
      "  if diff:\n"
     ]
    },
    {
     "data": {
      "image/png": "[encoded data removed]",
      "text/plain": [
       "<Figure size 288x288 with 2 Axes>"
      ]
     },
     "metadata": {},
     "output_type": "display_data"
    },
    {
     "name": "stdout",
     "output_type": "stream",
     "text": [
      "\n",
      "Classification Report:\n",
      "-----------------------------\n",
      "             precision    recall  f1-score   support\n",
      "\n",
      "          0     0.3739    0.0775    0.1284       555\n",
      "          1     0.7081    0.9231    0.8014      1248\n",
      "          2     0.7274    0.8010    0.7624       603\n",
      "\n",
      "avg / total     0.6358    0.6974    0.6364      2406\n",
      "\n"
     ]
    }
   ],
   "source": [
    "# Extreme Gradient Boosting\n",
    "from xgboost import XGBClassifier\n",
    "\n",
    "xgbc = model_build(XGBClassifier(n_estimators=150), X_train, y_train)\n",
    "model_eval(xgbc, X_test, y_test)"
   ]
  },
  {
   "cell_type": "code",
   "execution_count": null,
   "metadata": {},
   "outputs": [],
   "source": []
  }
 ],
 "metadata": {
  "kernelspec": {
   "display_name": "Python 3",
   "language": "python",
   "name": "python3"
  },
  "language_info": {
   "codemirror_mode": {
    "name": "ipython",
    "version": 3
   },
   "file_extension": ".py",
   "mimetype": "text/x-python",
   "name": "python",
   "nbconvert_exporter": "python",
   "pygments_lexer": "ipython3",
   "version": "3.7.0"
  }
 },
 "nbformat": 4,
 "nbformat_minor": 2
}
